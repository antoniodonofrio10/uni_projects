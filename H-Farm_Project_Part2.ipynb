{
 "cells": [
  {
   "cell_type": "code",
   "execution_count": 55,
   "id": "18a61267",
   "metadata": {},
   "outputs": [
    {
     "data": {
      "text/plain": [
       "(Category\n",
       " Carbonated        1.933788\n",
       " Food              1.707926\n",
       " Non Carbonated    2.519704\n",
       " Water             1.828448\n",
       " Name: TransTotal, dtype: float64,\n",
       " Category\n",
       " Carbonated        2.740909\n",
       " Food              2.842359\n",
       " Non Carbonated    3.224379\n",
       " Water             2.336788\n",
       " Name: TransTotal, dtype: float64)"
      ]
     },
     "execution_count": 55,
     "metadata": {},
     "output_type": "execute_result"
    }
   ],
   "source": [
    "d_cash.groupby('Category')[\"TransTotal\"].mean(), d_credit.groupby('Category')[\"TransTotal\"].mean()"
   ]
  },
  {
   "cell_type": "markdown",
   "id": "c77ff4dd",
   "metadata": {},
   "source": [
    "There seems to be a difference between the average transtotal with cash and with credit in all categories of products, let us start by seeing whether the one in the \"Carbonated\" category is indeed statistically significant."
   ]
  },
  {
   "cell_type": "markdown",
   "id": "8ad92d09",
   "metadata": {},
   "source": [
    "# Second T-test <a class=\"anchor\" id=\"ninth-bullet\"></a>\n",
    "[Index](#index) <a class=\"anchor\" id=\"index\"></a>"
   ]
  },
  {
   "cell_type": "code",
   "execution_count": 56,
   "id": "db30eb57",
   "metadata": {},
   "outputs": [
    {
     "data": {
      "text/plain": [
       "Ttest_indResult(statistic=-13.847037248962115, pvalue=3.392838283865919e-38)"
      ]
     },
     "execution_count": 56,
     "metadata": {},
     "output_type": "execute_result"
    }
   ],
   "source": [
    "from scipy import stats\n",
    "stats.ttest_ind(a=d_cash[d_cash['Category'] == 'Carbonated'].TransTotal, b=d_credit[d_credit['Category'] == 'Carbonated'].TransTotal, equal_var=False)"
   ]
  },
  {
   "cell_type": "markdown",
   "id": "64ded0dc",
   "metadata": {},
   "source": [
    "The t-test yield a p-value of 3.392838283865919e-38, meaning that the null hypothesis of non-significance is rejected. Given that there is a significant difference between the average transaction total with cash and credit card when it comes to \"Carbonated\" drinks, a further analysis is conducted to deepen the understanding."
   ]
  },
  {
   "cell_type": "markdown",
   "id": "51c294fd",
   "metadata": {},
   "source": [
    "# Cash-Carbonated vs Credit-Carbonated <a class=\"anchor\" id=\"tenth-bullet\"></a>\n",
    "[Index](#index) <a class=\"anchor\" id=\"index\"></a>"
   ]
  },
  {
   "cell_type": "markdown",
   "id": "82744769",
   "metadata": {},
   "source": [
    "Here follows some comparisons between the carbonated drinks that are bought with cash and those that are bought with credit card."
   ]
  },
  {
   "cell_type": "code",
   "execution_count": 57,
   "id": "24e735c1",
   "metadata": {},
   "outputs": [],
   "source": [
    "carbonated_cash = d_cash[d_cash['Category'] == 'Carbonated']\n",
    "carbonated_credit =d_credit[d_credit['Category'] == 'Carbonated']"
   ]
  },
  {
   "cell_type": "code",
   "execution_count": 58,
   "id": "ce75b597",
   "metadata": {},
   "outputs": [],
   "source": [
    "l = carbonated_cash.groupby('Product')['RPrice'].mean()-carbonated_credit.groupby('Product')['RPrice'].mean() == 0\n",
    "#carbonated[\"Product\"][l]\n",
    "l = l[l==False]\n",
    "la = l[l==False].index"
   ]
  },
  {
   "cell_type": "code",
   "execution_count": 59,
   "id": "684d6dd5",
   "metadata": {},
   "outputs": [
    {
     "data": {
      "text/plain": [
       "Coca Cola - Zero Sugar                      517\n",
       "Monster Energy Original                     385\n",
       "Sunkist Soda - Orange                       217\n",
       "Red Bull - Original                         157\n",
       "Coca Cola - Regular                         155\n",
       "Starbucks Refresher - Real Coconut Water     53\n",
       "Canada Dry - Ginger Ale & Lemonde            32\n",
       "Keto Krisp - Almond Butter                   27\n",
       "Spindrift - Sparkling Water  Lime            22\n",
       "Keto Krisp - Almond/Chocolate                15\n",
       "Canada Dry - Ginger Ale                      15\n",
       "Remedy Kombucha - Ginger Lemon                2\n",
       "Name: Product, dtype: int64"
      ]
     },
     "execution_count": 59,
     "metadata": {},
     "output_type": "execute_result"
    }
   ],
   "source": [
    "carbonated_differ = n_db.loc[n_db['Product'].isin(la)]\n",
    "carbonated_differ['Product'].value_counts()"
   ]
  },
  {
   "cell_type": "code",
   "execution_count": 60,
   "id": "0773b89f",
   "metadata": {},
   "outputs": [
    {
     "data": {
      "text/html": [
       "<div>\n",
       "<style scoped>\n",
       "    .dataframe tbody tr th:only-of-type {\n",
       "        vertical-align: middle;\n",
       "    }\n",
       "\n",
       "    .dataframe tbody tr th {\n",
       "        vertical-align: top;\n",
       "    }\n",
       "\n",
       "    .dataframe thead th {\n",
       "        text-align: right;\n",
       "    }\n",
       "</style>\n",
       "<table border=\"1\" class=\"dataframe\">\n",
       "  <thead>\n",
       "    <tr style=\"text-align: right;\">\n",
       "      <th></th>\n",
       "      <th>Product</th>\n",
       "      <th>RCoil</th>\n",
       "      <th>RPrice</th>\n",
       "    </tr>\n",
       "  </thead>\n",
       "  <tbody>\n",
       "    <tr>\n",
       "      <th>8</th>\n",
       "      <td>Monster Energy Original</td>\n",
       "      <td>144</td>\n",
       "      <td>3.0</td>\n",
       "    </tr>\n",
       "    <tr>\n",
       "      <th>17</th>\n",
       "      <td>Monster Energy Original</td>\n",
       "      <td>146</td>\n",
       "      <td>3.0</td>\n",
       "    </tr>\n",
       "    <tr>\n",
       "      <th>19</th>\n",
       "      <td>Monster Energy Original</td>\n",
       "      <td>146</td>\n",
       "      <td>3.0</td>\n",
       "    </tr>\n",
       "    <tr>\n",
       "      <th>20</th>\n",
       "      <td>Monster Energy Original</td>\n",
       "      <td>144</td>\n",
       "      <td>3.0</td>\n",
       "    </tr>\n",
       "    <tr>\n",
       "      <th>21</th>\n",
       "      <td>Spindrift - Sparkling Water  Lime</td>\n",
       "      <td>140</td>\n",
       "      <td>1.0</td>\n",
       "    </tr>\n",
       "    <tr>\n",
       "      <th>...</th>\n",
       "      <td>...</td>\n",
       "      <td>...</td>\n",
       "      <td>...</td>\n",
       "    </tr>\n",
       "    <tr>\n",
       "      <th>6387</th>\n",
       "      <td>Starbucks Refresher - Real Coconut Water</td>\n",
       "      <td>148</td>\n",
       "      <td>3.0</td>\n",
       "    </tr>\n",
       "    <tr>\n",
       "      <th>6390</th>\n",
       "      <td>Coca Cola - Zero Sugar</td>\n",
       "      <td>140</td>\n",
       "      <td>1.5</td>\n",
       "    </tr>\n",
       "    <tr>\n",
       "      <th>6397</th>\n",
       "      <td>Coca Cola - Zero Sugar</td>\n",
       "      <td>141</td>\n",
       "      <td>2.0</td>\n",
       "    </tr>\n",
       "    <tr>\n",
       "      <th>6400</th>\n",
       "      <td>Coca Cola - Zero Sugar</td>\n",
       "      <td>141</td>\n",
       "      <td>2.0</td>\n",
       "    </tr>\n",
       "    <tr>\n",
       "      <th>6431</th>\n",
       "      <td>Canada Dry - Ginger Ale &amp; Lemonde</td>\n",
       "      <td>140</td>\n",
       "      <td>1.5</td>\n",
       "    </tr>\n",
       "  </tbody>\n",
       "</table>\n",
       "<p>1597 rows × 3 columns</p>\n",
       "</div>"
      ],
      "text/plain": [
       "                                       Product  RCoil  RPrice\n",
       "8                      Monster Energy Original    144     3.0\n",
       "17                     Monster Energy Original    146     3.0\n",
       "19                     Monster Energy Original    146     3.0\n",
       "20                     Monster Energy Original    144     3.0\n",
       "21           Spindrift - Sparkling Water  Lime    140     1.0\n",
       "...                                        ...    ...     ...\n",
       "6387  Starbucks Refresher - Real Coconut Water    148     3.0\n",
       "6390                    Coca Cola - Zero Sugar    140     1.5\n",
       "6397                    Coca Cola - Zero Sugar    141     2.0\n",
       "6400                    Coca Cola - Zero Sugar    141     2.0\n",
       "6431         Canada Dry - Ginger Ale & Lemonde    140     1.5\n",
       "\n",
       "[1597 rows x 3 columns]"
      ]
     },
     "execution_count": 60,
     "metadata": {},
     "output_type": "execute_result"
    }
   ],
   "source": [
    "carbonated_differ_g = carbonated_differ.drop(['Month','TransTotal','Festive','Location','Type','Machine','Category','RQty','LineTotal','Day_of_Week'],axis=1)\n",
    "carbonated_differ_g"
   ]
  },
  {
   "cell_type": "code",
   "execution_count": 61,
   "id": "d0f69038",
   "metadata": {},
   "outputs": [
    {
     "data": {
      "text/plain": [
       "Product\n",
       "Canada Dry - Ginger Ale                     AxesSubplot(0.125,0.125;0.775x0.755)\n",
       "Canada Dry - Ginger Ale & Lemonde           AxesSubplot(0.125,0.125;0.775x0.755)\n",
       "Coca Cola - Regular                         AxesSubplot(0.125,0.125;0.775x0.755)\n",
       "Coca Cola - Zero Sugar                      AxesSubplot(0.125,0.125;0.775x0.755)\n",
       "Keto Krisp - Almond Butter                  AxesSubplot(0.125,0.125;0.775x0.755)\n",
       "Keto Krisp - Almond/Chocolate               AxesSubplot(0.125,0.125;0.775x0.755)\n",
       "Monster Energy Original                     AxesSubplot(0.125,0.125;0.775x0.755)\n",
       "Red Bull - Original                         AxesSubplot(0.125,0.125;0.775x0.755)\n",
       "Remedy Kombucha - Ginger Lemon              AxesSubplot(0.125,0.125;0.775x0.755)\n",
       "Spindrift - Sparkling Water  Lime           AxesSubplot(0.125,0.125;0.775x0.755)\n",
       "Starbucks Refresher - Real Coconut Water    AxesSubplot(0.125,0.125;0.775x0.755)\n",
       "Sunkist Soda - Orange                       AxesSubplot(0.125,0.125;0.775x0.755)\n",
       "Name: RPrice, dtype: object"
      ]
     },
     "execution_count": 61,
     "metadata": {},
     "output_type": "execute_result"
    },
    {
     "data": {
      "image/png": "[encoded data removed]",
      "text/plain": [
       "<Figure size 432x288 with 1 Axes>"
      ]
     },
     "metadata": {
      "needs_background": "light"
     },
     "output_type": "display_data"
    }
   ],
   "source": [
    "carbonated_differ_g.groupby('Product')['RPrice'].hist()"
   ]
  },
  {
   "cell_type": "code",
   "execution_count": 62,
   "id": "47ca6ee0",
   "metadata": {},
   "outputs": [
    {
     "data": {
      "text/plain": [
       "Product                                   RPrice\n",
       "Canada Dry - Ginger Ale                   2.75       14\n",
       "                                          2.00        1\n",
       "Canada Dry - Ginger Ale & Lemonde         1.50       22\n",
       "                                          2.00       10\n",
       "Coca Cola - Regular                       1.50      145\n",
       "                                          2.00       10\n",
       "Coca Cola - Zero Sugar                    1.50      339\n",
       "                                          1.00      152\n",
       "                                          2.00       26\n",
       "Keto Krisp - Almond Butter                2.00       22\n",
       "                                          1.25        5\n",
       "Keto Krisp - Almond/Chocolate             2.00       14\n",
       "                                          2.25        1\n",
       "Monster Energy Original                   3.00      369\n",
       "                                          3.25       16\n",
       "Red Bull - Original                       3.50      108\n",
       "                                          3.00       49\n",
       "Remedy Kombucha - Ginger Lemon            3.00        2\n",
       "Spindrift - Sparkling Water  Lime         1.50       19\n",
       "                                          1.00        3\n",
       "Starbucks Refresher - Real Coconut Water  3.00       45\n",
       "                                          3.50        8\n",
       "Sunkist Soda - Orange                     1.50       93\n",
       "                                          1.00       90\n",
       "                                          1.25       34\n",
       "Name: RPrice, dtype: int64"
      ]
     },
     "execution_count": 62,
     "metadata": {},
     "output_type": "execute_result"
    }
   ],
   "source": [
    "carbonated_differ_g.groupby('Product')['RPrice'].value_counts()"
   ]
  },
  {
   "cell_type": "code",
   "execution_count": 63,
   "id": "52a85c17",
   "metadata": {},
   "outputs": [
    {
     "data": {
      "text/plain": [
       "RPrice  Location         \n",
       "1.0     GuttenPlans          152\n",
       "1.5     EB Public Library    140\n",
       "        GuttenPlans          128\n",
       "        Brunswick Sq Mall     61\n",
       "        Earle Asphalt         10\n",
       "2.0     EB Public Library     26\n",
       "Name: Location, dtype: int64"
      ]
     },
     "execution_count": 63,
     "metadata": {},
     "output_type": "execute_result"
    }
   ],
   "source": [
    "cola_zero = carbonated_differ.loc[carbonated_differ['Product'] == 'Coca Cola - Zero Sugar']\n",
    "cola_zero.groupby('RPrice')['Location'].value_counts()"
   ]
  },
  {
   "cell_type": "code",
   "execution_count": 64,
   "id": "c0fc21fe",
   "metadata": {},
   "outputs": [
    {
     "data": {
      "text/plain": [
       "RPrice  Month   \n",
       "1.0     January     52\n",
       "        March       45\n",
       "        February    43\n",
       "        April       12\n",
       "1.5     April       88\n",
       "        May         84\n",
       "        July        66\n",
       "        June        65\n",
       "        March       23\n",
       "        February     8\n",
       "        August       5\n",
       "2.0     August      26\n",
       "Name: Month, dtype: int64"
      ]
     },
     "execution_count": 64,
     "metadata": {},
     "output_type": "execute_result"
    }
   ],
   "source": [
    "cola_zero.groupby('RPrice')['Month'].value_counts()"
   ]
  },
  {
   "cell_type": "code",
   "execution_count": 65,
   "id": "b03e0f5b",
   "metadata": {},
   "outputs": [
    {
     "data": {
      "text/plain": [
       "Product\n",
       "Bubly - Cherry                                   1.500000\n",
       "Bubly - Mango                                    1.500000\n",
       "Canada Dry - Ginger Ale                          2.700000\n",
       "Canada Dry - Ginger Ale & Lemonde                1.656250\n",
       "Coca Cola - Regular                              1.532258\n",
       "Coca Cola - Zero Sugar                           1.378143\n",
       "Keto Krisp - Almond Butter                       1.861111\n",
       "Keto Krisp - Almond/Chocolate                    2.016667\n",
       "Monster Energy  Zero Ultra                       3.000000\n",
       "Monster Energy Original                          3.010390\n",
       "Red Bull - Energy Drink - Sugar Free             3.500000\n",
       "Red Bull - Original                              3.343949\n",
       "Remedy Kombucha - Ginger Lemon                   3.000000\n",
       "S. Pellegrino Essenza Mineral Water - Blood O    2.500000\n",
       "Spindrift - Sparkling Water  Lime                1.431818\n",
       "Spindrift - Sparkling Water - Pineapple          1.500000\n",
       "Starbucks Refresher - Real Coconut Water         3.075472\n",
       "Sunkist Soda - Orange                            1.253456\n",
       "Name: RPrice, dtype: float64"
      ]
     },
     "execution_count": 65,
     "metadata": {},
     "output_type": "execute_result"
    }
   ],
   "source": [
    "carbonated = n_db[n_db['Category']=='Carbonated']\n",
    "carbonated.groupby('Product')['RPrice'].mean()"
   ]
  },
  {
   "cell_type": "code",
   "execution_count": 66,
   "id": "b5b2b853",
   "metadata": {},
   "outputs": [
    {
     "data": {
      "text/plain": [
       "RPrice\n",
       "1.00    245\n",
       "1.25     39\n",
       "1.50    679\n",
       "2.00     83\n",
       "2.25      1\n",
       "2.50      3\n",
       "2.75     14\n",
       "3.00    469\n",
       "3.25     16\n",
       "3.50    137\n",
       "Name: Product, dtype: int64"
      ]
     },
     "execution_count": 66,
     "metadata": {},
     "output_type": "execute_result"
    }
   ],
   "source": [
    "carbonated = n_db[n_db['Category']=='Carbonated']\n",
    "carbonated.groupby('RPrice')['Product'].count()"
   ]
  },
  {
   "cell_type": "code",
   "execution_count": 67,
   "id": "7d98958d",
   "metadata": {},
   "outputs": [
    {
     "data": {
      "text/plain": [
       "Product\n",
       "Bubly - Cherry                                      7.50\n",
       "Bubly - Mango                                       7.50\n",
       "Canada Dry - Ginger Ale                            40.50\n",
       "Canada Dry - Ginger Ale & Lemonde                  53.00\n",
       "Coca Cola - Regular                               237.50\n",
       "Coca Cola - Zero Sugar                            712.50\n",
       "Keto Krisp - Almond Butter                         50.25\n",
       "Keto Krisp - Almond/Chocolate                      30.25\n",
       "Monster Energy  Zero Ultra                         12.00\n",
       "Monster Energy Original                          1159.00\n",
       "Red Bull - Energy Drink - Sugar Free               73.50\n",
       "Red Bull - Original                               525.00\n",
       "Remedy Kombucha - Ginger Lemon                      6.00\n",
       "S. Pellegrino Essenza Mineral Water - Blood O       7.50\n",
       "Spindrift - Sparkling Water  Lime                  31.50\n",
       "Spindrift - Sparkling Water - Pineapple            76.50\n",
       "Starbucks Refresher - Real Coconut Water          163.00\n",
       "Sunkist Soda - Orange                             272.00\n",
       "Name: RPrice, dtype: float64"
      ]
     },
     "execution_count": 67,
     "metadata": {},
     "output_type": "execute_result"
    }
   ],
   "source": [
    "carbonated.groupby('Product')['RPrice'].sum()"
   ]
  },
  {
   "cell_type": "markdown",
   "id": "4744ff18",
   "metadata": {},
   "source": [
    "From the analyses carried out above, what was discovered is that different products have different prices for unknown reasons. Therefore, it is not possible to conclude whether carbonated drinks are those really driving the difference between cash and credit or not. "
   ]
  },
  {
   "cell_type": "markdown",
   "id": "1fd94549",
   "metadata": {},
   "source": [
    "The same holds true also for the other categories of products, for easiness of presentation codes are not reported in the final version but the results are in line with what happened with carbonated drinks."
   ]
  },
  {
   "cell_type": "markdown",
   "id": "340d9259",
   "metadata": {},
   "source": [
    "## Location  <a class=\"anchor\" id=\"eleventh-bullet\"></a>\n",
    "[Index](#index) <a class=\"anchor\" id=\"index\"></a>"
   ]
  },
  {
   "cell_type": "markdown",
   "id": "5f61d56e",
   "metadata": {},
   "source": [
    "At this point, an analysis of how the location might have had an impact of the transaction total has been carried out."
   ]
  },
  {
   "cell_type": "code",
   "execution_count": 68,
   "id": "d8f5a845",
   "metadata": {},
   "outputs": [
    {
     "data": {
      "text/plain": [
       "GuttenPlans          2567\n",
       "EB Public Library    1919\n",
       "Brunswick Sq Mall    1279\n",
       "Earle Asphalt         676\n",
       "Name: Location, dtype: int64"
      ]
     },
     "execution_count": 68,
     "metadata": {},
     "output_type": "execute_result"
    }
   ],
   "source": [
    "n_db.Location.value_counts()"
   ]
  },
  {
   "cell_type": "code",
   "execution_count": 69,
   "id": "27b9c4de",
   "metadata": {},
   "outputs": [
    {
     "data": {
      "text/plain": [
       "Location\n",
       "Brunswick Sq Mall    2.154027\n",
       "EB Public Library    2.274752\n",
       "Earle Asphalt        1.865385\n",
       "GuttenPlans          2.212992\n",
       "Name: TransTotal, dtype: float64"
      ]
     },
     "execution_count": 69,
     "metadata": {},
     "output_type": "execute_result"
    }
   ],
   "source": [
    "n_db.groupby('Location')['TransTotal'].mean()"
   ]
  },
  {
   "cell_type": "markdown",
   "id": "506b2d53",
   "metadata": {},
   "source": [
    "Here the variation seems to be way smaller that the one obtained for the cash vs credit comparison performed above."
   ]
  },
  {
   "cell_type": "code",
   "execution_count": 70,
   "id": "a9a22beb",
   "metadata": {},
   "outputs": [
    {
     "data": {
      "text/plain": [
       "Location           Day_of_Week\n",
       "Brunswick Sq Mall  Friday          346.75\n",
       "                   Monday          389.25\n",
       "                   Saturday        607.50\n",
       "                   Sunday          509.50\n",
       "                   Thursday        269.00\n",
       "                   Tuesday         346.00\n",
       "                   Wednesday       287.00\n",
       "EB Public Library  Friday          474.75\n",
       "                   Monday          762.00\n",
       "                   Saturday        453.25\n",
       "                   Sunday          346.75\n",
       "                   Thursday        744.75\n",
       "                   Tuesday         771.50\n",
       "                   Wednesday       812.25\n",
       "Earle Asphalt      Friday          266.75\n",
       "                   Monday          265.00\n",
       "                   Saturday          4.75\n",
       "                   Sunday            2.75\n",
       "                   Thursday        236.75\n",
       "                   Tuesday         224.75\n",
       "                   Wednesday       260.25\n",
       "GuttenPlans        Friday         1092.50\n",
       "                   Monday          826.75\n",
       "                   Saturday        396.25\n",
       "                   Sunday           16.50\n",
       "                   Thursday       1149.00\n",
       "                   Tuesday        1064.75\n",
       "                   Wednesday      1135.00\n",
       "Name: TransTotal, dtype: float64"
      ]
     },
     "execution_count": 70,
     "metadata": {},
     "output_type": "execute_result"
    }
   ],
   "source": [
    "n_db.groupby(['Location','Day_of_Week'])['TransTotal'].sum()"
   ]
  },
  {
   "cell_type": "markdown",
   "id": "6562258c",
   "metadata": {},
   "source": [
    "From the analysis above, it is possible to confirm what was already foreseeable with logic: transaction totals are higher in the mall during weekends and in the offices/library during weekdays. This was imaginable since the library and the offices are working venues while the mall is mainly a leisure one."
   ]
  },
  {
   "cell_type": "markdown",
   "id": "2509dc78",
   "metadata": {},
   "source": [
    "## RCoil  <a class=\"anchor\" id=\"twelfth-bullet\"></a>\n",
    "[Index](#index) <a class=\"anchor\" id=\"index\"></a>"
   ]
  },
  {
   "cell_type": "markdown",
   "id": "2746cb4a",
   "metadata": {},
   "source": [
    "Here we tried to analyse whether the position of the product in the vending machine has some relevance."
   ]
  },
  {
   "cell_type": "code",
   "execution_count": 71,
   "id": "36e3aa9c",
   "metadata": {},
   "outputs": [
    {
     "data": {
      "text/plain": [
       "<AxesSubplot:xlabel='RCoil'>"
      ]
     },
     "execution_count": 71,
     "metadata": {},
     "output_type": "execute_result"
    },
    {
     "data": {
      "image/png": "[encoded data removed]",
      "text/plain": [
       "<Figure size 432x288 with 1 Axes>"
      ]
     },
     "metadata": {
      "needs_background": "light"
     },
     "output_type": "display_data"
    }
   ],
   "source": [
    "n_db.groupby('RCoil')['TransTotal'].sum().plot()"
   ]
  },
  {
   "cell_type": "markdown",
   "id": "b1665e8b",
   "metadata": {},
   "source": [
    "From this representation it seems that the most used coils are the ones approximately at the middle. Let us try to gain some more information by grouping the coils and plotting an heatmap. "
   ]
  },
  {
   "cell_type": "markdown",
   "id": "32f56c51",
   "metadata": {},
   "source": [
    "A variable summarizing the coils has been created. This variable, in particular, contains the number of the row of the coil used (here we assumed that the vending machines at hand have a standard configuration: 10 coils per row):"
   ]
  },
  {
   "cell_type": "code",
   "execution_count": 72,
   "id": "20daa21f",
   "metadata": {},
   "outputs": [],
   "source": [
    "n_db_c=n_db.copy()"
   ]
  },
  {
   "cell_type": "code",
   "execution_count": 73,
   "id": "0c84c4e9",
   "metadata": {},
   "outputs": [],
   "source": [
    "n_db_c['hor_eye'] = np.nan"
   ]
  },
  {
   "cell_type": "code",
   "execution_count": 74,
   "id": "3d8af04b",
   "metadata": {},
   "outputs": [],
   "source": [
    "for i in range(len(n_db_c)):\n",
    "    n_db_c['hor_eye'].loc[n_db_c.index[i]] = int(str(n_db_c['RCoil'].loc[n_db_c.index[i]])[1])"
   ]
  },
  {
   "cell_type": "markdown",
   "id": "57b1de98",
   "metadata": {},
   "source": [
    "This new variable is than use to plot an heatmap to use the usage of coils:"
   ]
  },
  {
   "cell_type": "code",
   "execution_count": 75,
   "id": "da27fdc6",
   "metadata": {},
   "outputs": [
    {
     "data": {
      "text/html": [
       "<div>\n",
       "<style scoped>\n",
       "    .dataframe tbody tr th:only-of-type {\n",
       "        vertical-align: middle;\n",
       "    }\n",
       "\n",
       "    .dataframe tbody tr th {\n",
       "        vertical-align: top;\n",
       "    }\n",
       "\n",
       "    .dataframe thead th {\n",
       "        text-align: right;\n",
       "    }\n",
       "</style>\n",
       "<table border=\"1\" class=\"dataframe\">\n",
       "  <thead>\n",
       "    <tr style=\"text-align: right;\">\n",
       "      <th></th>\n",
       "      <th>1</th>\n",
       "      <th>2</th>\n",
       "      <th>3</th>\n",
       "      <th>4</th>\n",
       "      <th>5</th>\n",
       "    </tr>\n",
       "  </thead>\n",
       "  <tbody>\n",
       "    <tr>\n",
       "      <th>1</th>\n",
       "      <td>413.00</td>\n",
       "      <td>448.75</td>\n",
       "      <td>200.50</td>\n",
       "      <td>543.50</td>\n",
       "      <td>71.50</td>\n",
       "    </tr>\n",
       "    <tr>\n",
       "      <th>2</th>\n",
       "      <td>433.25</td>\n",
       "      <td>398.50</td>\n",
       "      <td>268.75</td>\n",
       "      <td>645.00</td>\n",
       "      <td>87.25</td>\n",
       "    </tr>\n",
       "    <tr>\n",
       "      <th>3</th>\n",
       "      <td>435.00</td>\n",
       "      <td>376.50</td>\n",
       "      <td>205.00</td>\n",
       "      <td>579.75</td>\n",
       "      <td>24.00</td>\n",
       "    </tr>\n",
       "    <tr>\n",
       "      <th>4</th>\n",
       "      <td>333.50</td>\n",
       "      <td>323.75</td>\n",
       "      <td>433.50</td>\n",
       "      <td>1063.75</td>\n",
       "      <td>35.00</td>\n",
       "    </tr>\n",
       "    <tr>\n",
       "      <th>5</th>\n",
       "      <td>NaN</td>\n",
       "      <td>266.00</td>\n",
       "      <td>243.75</td>\n",
       "      <td>645.75</td>\n",
       "      <td>68.00</td>\n",
       "    </tr>\n",
       "    <tr>\n",
       "      <th>6</th>\n",
       "      <td>NaN</td>\n",
       "      <td>NaN</td>\n",
       "      <td>226.25</td>\n",
       "      <td>1108.00</td>\n",
       "      <td>22.50</td>\n",
       "    </tr>\n",
       "  </tbody>\n",
       "</table>\n",
       "</div>"
      ],
      "text/plain": [
       "        1       2       3        4      5\n",
       "1  413.00  448.75  200.50   543.50  71.50\n",
       "2  433.25  398.50  268.75   645.00  87.25\n",
       "3  435.00  376.50  205.00   579.75  24.00\n",
       "4  333.50  323.75  433.50  1063.75  35.00\n",
       "5     NaN  266.00  243.75   645.75  68.00\n",
       "6     NaN     NaN  226.25  1108.00  22.50"
      ]
     },
     "execution_count": 75,
     "metadata": {},
     "output_type": "execute_result"
    }
   ],
   "source": [
    "a = n_db_c.groupby('RCoil')['TransTotal'].sum()\n",
    "b = a.to_frame()\n",
    "data = pd.DataFrame({'RCoil': range(110,170),\n",
    "                   'Total': 0},\n",
    "                   columns = ['RCoil', 'Total'])\n",
    "data = pd.merge(b, data, left_on=\"RCoil\", right_on=\"RCoil\")\n",
    "data.drop(['Total'], axis=1, inplace= True)\n",
    "data['Row'] = np.nan\n",
    "data['Column'] = np.nan\n",
    "for i in range(len(data)):\n",
    "    data['Row'].loc[data.index[i]] = int(str(data['RCoil'].loc[data.index[i]])[1])\n",
    "    data['Column'].loc[data.index[i]] = int(str(data['RCoil'].loc[data.index[i]])[2])\n",
    "data.drop(['RCoil'], axis=1, inplace = True)\n",
    "datas = pd.DataFrame(np.nan, index=[i for i in range(1,7)], columns=[i for i in range(0,10)])\n",
    "for i in range(len(data)):\n",
    "    a = data['Row'].loc[data.index[i]]\n",
    "    b = data['Column'].loc[data.index[i]]\n",
    "    c = data['TransTotal'].loc[data.index[i]]\n",
    "    datas[a][b] = c\n",
    "datas.drop([0,6,7,8,9], axis =1, inplace = True)\n",
    "datas"
   ]
  },
  {
   "cell_type": "code",
   "execution_count": 76,
   "id": "f24171da",
   "metadata": {},
   "outputs": [
    {
     "data": {
      "image/png": "[encoded data removed]",
      "text/plain": [
       "<Figure size 432x288 with 2 Axes>"
      ]
     },
     "metadata": {
      "needs_background": "light"
     },
     "output_type": "display_data"
    }
   ],
   "source": [
    "ax = sns.heatmap(datas, cmap = 'YlOrRd')\n",
    "ax.set(xlabel=\"Columns\", ylabel=\"Rows\")\n",
    "ax.xaxis.tick_top()"
   ]
  },
  {
   "cell_type": "markdown",
   "id": "645452bf",
   "metadata": {},
   "source": [
    "This heatmap seems to verify what was also seen before. Though, given that no extra information is provided about the configurations of the machines, we decided not to further investigate in this respect as it might be the case that the central coils are the most used because some machines might have only them, for instance. Still, these results as well as the ones obtained for the previous features, can be useful to develop new strategies and theories if combined with further information.  "
   ]
  },
  {
   "cell_type": "markdown",
   "id": "ec1543a8",
   "metadata": {},
   "source": [
    "## CatBoost  <a class=\"anchor\" id=\"thirteenth-bullet\"></a>\n",
    "[Index](#index) <a class=\"anchor\" id=\"index\"></a>\n",
    "\n"
   ]
  },
  {
   "cell_type": "markdown",
   "id": "b2da3679",
   "metadata": {
    "jupyter": {
     "outputs_hidden": true
    }
   },
   "source": [
    "To verify what has been previously discovered through data exploration procedures, a CatBoost has been run. CatBoost is a machine learning algorithm that uses gradient boosting on decision trees. This procedure was selected as clustering algorithms did not perform well given the huge number of categorical varibales present in the dataset. For this reason, a tree based approach was selected in order to identify what are the features generating the greatest difference between observations and so granting an higher information gain once split on those variables has been performed. "
   ]
  },
  {
   "cell_type": "code",
   "execution_count": 77,
   "id": "adc46b0e",
   "metadata": {},
   "outputs": [],
   "source": [
    "import catboost as cb\n",
    "from sklearn.model_selection import train_test_split\n",
    "from sklearn.metrics import mean_squared_error\n",
    "from sklearn.metrics import r2_score\n",
    "from sklearn.inspection import permutation_importance"
   ]
  },
  {
   "cell_type": "markdown",
   "id": "f494366f",
   "metadata": {},
   "source": [
    "To begin with, the target feature is isolated from the rest of the dataset and the train/test split is performed:"
   ]
  },
  {
   "cell_type": "code",
   "execution_count": 78,
   "id": "01f4498c",
   "metadata": {},
   "outputs": [],
   "source": [
    "target = n_db[\"TransTotal\"]"
   ]
  },
  {
   "cell_type": "code",
   "execution_count": 79,
   "id": "c5c4cb42",
   "metadata": {},
   "outputs": [],
   "source": [
    "n_db=n_db.drop([\"TransTotal\"],axis=1)"
   ]
  },
  {
   "cell_type": "code",
   "execution_count": 80,
   "id": "c238039c",
   "metadata": {},
   "outputs": [],
   "source": [
    "n_db=n_db.drop([\"LineTotal\", \"RPrice\"],axis=1)"
   ]
  },
  {
   "cell_type": "code",
   "execution_count": 81,
   "id": "0e06a6ec",
   "metadata": {},
   "outputs": [],
   "source": [
    "X_train, X_test, y_train, y_test = train_test_split(n_db, target, test_size = 0.2, random_state=5)"
   ]
  },
  {
   "cell_type": "code",
   "execution_count": 82,
   "id": "12b01193",
   "metadata": {},
   "outputs": [],
   "source": [
    "train_dataset = cb.Pool(X_train, y_train, cat_features = [\"Location\", \"Machine\", \"Product\", \"Category\",\"Type\", \"Day_of_Week\", \"Festive\", \"Month\", \"RCoil\"])\n",
    "test_dataset = cb.Pool(X_test, y_test, cat_features = [\"Location\", \"Machine\", \"Product\", \"Category\",\"Type\", \"Day_of_Week\", \"Festive\", \"Month\", \"RCoil\"])"
   ]
  },
  {
   "cell_type": "code",
   "execution_count": 83,
   "id": "828ae478",
   "metadata": {},
   "outputs": [],
   "source": [
    "model = cb.CatBoostRegressor(loss_function=\"RMSE\")"
   ]
  }
 ],
 "metadata": {},
 "nbformat": 4,
 "nbformat_minor": 5
}
