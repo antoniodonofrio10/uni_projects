{
 "cells": [
  {
   "cell_type": "markdown",
   "id": "29f6763d",
   "metadata": {},
   "source": [
    "The following procedures are aimed at exploring and analyzing different databases with the end goal of extracting valuable information and identifying patterns. In particular, the first part focuses on the dataset \"vending.csv\", provided for the assignment, while the following two parts are centered on datasets obtained from the surveys run on Qualtrics both for the general testing of the proposed hypothesis and for the A/B testing of our final proposals."
   ]
  },
  {
   "cell_type": "markdown",
   "id": "4e91d9ac",
   "metadata": {},
   "source": [
    "# PART A (Analyses of provided dataset)"
   ]
  },
  {
   "cell_type": "markdown",
   "id": "c8a741ab",
   "metadata": {},
   "source": [
    "## Index:    <a class=\"anchor\" id=\"index\"></a>\n",
    "* [Index](#index)\n",
    "* [Import of relevant libraries](#zero-bullet)\n",
    "* [Import of data](#first-bullet)\n",
    "* [Missing Values and Type Checks](#second-bullet)\n",
    "* [Correlation Checks](#corr-bullet)\n",
    "* [Dealing with Excess Columns](#third-bullet)\n",
    "* [Data Visualization and Outliers Checks](#fourth-bullet)\n",
    "* [Feature Engineering](#fifth-bullet)\n",
    "* [Exploratory Data Analysis](#sixth-bullet)\n",
    "* [First t-test](#seventh-bullet)\n",
    "* [Cash vs Credit Comparison](#eighth-bullet)\n",
    "* [Second t-test](#ninth-bullet)\n",
    "* [Cash-Carbonated vs Credit-Carbonated](#tenth-bullet)\n",
    "* [Location](#eleventh-bullet)\n",
    "* [RCoil](#twelfth-bullet)\n",
    "* [CatBoost](#thirhtenth-bullet)\n",
    "\n"
   ]
  },
  {
   "cell_type": "markdown",
   "id": "e160230a",
   "metadata": {},
   "source": [
    "# Import of relevant libraries <a class=\"anchor\" id=\"zero-bullet\"></a>\n",
    "[Index](#index) <a class=\"anchor\" id=\"index\"></a>"
   ]
  },
  {
   "cell_type": "code",
   "execution_count": 10,
   "id": "815bde7a",
   "metadata": {},
   "outputs": [],
   "source": [
    "import warnings\n",
    "warnings.filterwarnings(\"ignore\")\n",
    "import pandas as pd\n",
    "import numpy as np\n",
    "import sklearn\n",
    "import matplotlib as mpl\n",
    "import matplotlib.pyplot as plt\n",
    "import seaborn as sns\n",
    "from sklearn.model_selection import train_test_split\n",
    "from sklearn.metrics import mean_squared_error\n",
    "from sklearn.metrics import r2_score\n",
    "from sklearn.inspection import permutation_importance\n",
    "%matplotlib inline\n",
    "np.random.seed(42)"
   ]
  },
  {
   "cell_type": "markdown",
   "id": "a95db2d6",
   "metadata": {},
   "source": [
    "# Import of data <a class=\"anchor\" id=\"first-bullet\"></a>\n",
    "[Index](#index) <a class=\"anchor\" id=\"index\"></a>"
   ]
  },
  {
   "cell_type": "code",
   "execution_count": 11,
   "id": "4096c087",
   "metadata": {},
   "outputs": [],
   "source": [
    "db=pd.read_csv('vending.csv')"
   ]
  },
  {
   "cell_type": "markdown",
   "id": "664a45e4",
   "metadata": {},
   "source": [
    "Brief vizualization the head of the dataset to have a grasp at the data:"
   ]
  },
  {
   "cell_type": "code",
   "execution_count": 12,
   "id": "5e065af8",
   "metadata": {},
   "outputs": [
    {
     "data": {
      "text/html": [
       "<div>\n",
       "<style scoped>\n",
       "    .dataframe tbody tr th:only-of-type {\n",
       "        vertical-align: middle;\n",
       "    }\n",
       "\n",
       "    .dataframe tbody tr th {\n",
       "        vertical-align: top;\n",
       "    }\n",
       "\n",
       "    .dataframe thead th {\n",
       "        text-align: right;\n",
       "    }\n",
       "</style>\n",
       "<table border=\"1\" class=\"dataframe\">\n",
       "  <thead>\n",
       "    <tr style=\"text-align: right;\">\n",
       "      <th></th>\n",
       "      <th>Status</th>\n",
       "      <th>Device ID</th>\n",
       "      <th>Location</th>\n",
       "      <th>Machine</th>\n",
       "      <th>Product</th>\n",
       "      <th>Category</th>\n",
       "      <th>Transaction</th>\n",
       "      <th>TransDate</th>\n",
       "      <th>Type</th>\n",
       "      <th>RCoil</th>\n",
       "      <th>RPrice</th>\n",
       "      <th>RQty</th>\n",
       "      <th>MCoil</th>\n",
       "      <th>MPrice</th>\n",
       "      <th>MQty</th>\n",
       "      <th>LineTotal</th>\n",
       "      <th>TransTotal</th>\n",
       "      <th>Prcd Date</th>\n",
       "    </tr>\n",
       "  </thead>\n",
       "  <tbody>\n",
       "    <tr>\n",
       "      <th>0</th>\n",
       "      <td>Processed</td>\n",
       "      <td>VJ300320611</td>\n",
       "      <td>Brunswick Sq Mall</td>\n",
       "      <td>BSQ Mall x1366 - ATT</td>\n",
       "      <td>Red Bull - Energy Drink - Sugar Free</td>\n",
       "      <td>Carbonated</td>\n",
       "      <td>14515778905</td>\n",
       "      <td>Saturday, January 1, 2022</td>\n",
       "      <td>Credit</td>\n",
       "      <td>148</td>\n",
       "      <td>3.5</td>\n",
       "      <td>1</td>\n",
       "      <td>148</td>\n",
       "      <td>3.5</td>\n",
       "      <td>1</td>\n",
       "      <td>3.5</td>\n",
       "      <td>3.5</td>\n",
       "      <td>1/1/2022</td>\n",
       "    </tr>\n",
       "    <tr>\n",
       "      <th>1</th>\n",
       "      <td>Processed</td>\n",
       "      <td>VJ300320611</td>\n",
       "      <td>Brunswick Sq Mall</td>\n",
       "      <td>BSQ Mall x1366 - ATT</td>\n",
       "      <td>Red Bull - Energy Drink - Sugar Free</td>\n",
       "      <td>Carbonated</td>\n",
       "      <td>14516018629</td>\n",
       "      <td>Saturday, January 1, 2022</td>\n",
       "      <td>Credit</td>\n",
       "      <td>148</td>\n",
       "      <td>3.5</td>\n",
       "      <td>1</td>\n",
       "      <td>148</td>\n",
       "      <td>3.5</td>\n",
       "      <td>1</td>\n",
       "      <td>3.5</td>\n",
       "      <td>5.0</td>\n",
       "      <td>1/1/2022</td>\n",
       "    </tr>\n",
       "    <tr>\n",
       "      <th>2</th>\n",
       "      <td>Processed</td>\n",
       "      <td>VJ300320611</td>\n",
       "      <td>Brunswick Sq Mall</td>\n",
       "      <td>BSQ Mall x1366 - ATT</td>\n",
       "      <td>Takis - Hot Chilli Pepper &amp; Lime</td>\n",
       "      <td>Food</td>\n",
       "      <td>14516018629</td>\n",
       "      <td>Saturday, January 1, 2022</td>\n",
       "      <td>Credit</td>\n",
       "      <td>123</td>\n",
       "      <td>1.5</td>\n",
       "      <td>1</td>\n",
       "      <td>123</td>\n",
       "      <td>1.5</td>\n",
       "      <td>1</td>\n",
       "      <td>1.5</td>\n",
       "      <td>5.0</td>\n",
       "      <td>1/1/2022</td>\n",
       "    </tr>\n",
       "    <tr>\n",
       "      <th>3</th>\n",
       "      <td>Processed</td>\n",
       "      <td>VJ300320611</td>\n",
       "      <td>Brunswick Sq Mall</td>\n",
       "      <td>BSQ Mall x1366 - ATT</td>\n",
       "      <td>Takis - Hot Chilli Pepper &amp; Lime</td>\n",
       "      <td>Food</td>\n",
       "      <td>14516020373</td>\n",
       "      <td>Saturday, January 1, 2022</td>\n",
       "      <td>Credit</td>\n",
       "      <td>123</td>\n",
       "      <td>1.5</td>\n",
       "      <td>1</td>\n",
       "      <td>123</td>\n",
       "      <td>1.5</td>\n",
       "      <td>1</td>\n",
       "      <td>1.5</td>\n",
       "      <td>1.5</td>\n",
       "      <td>1/1/2022</td>\n",
       "    </tr>\n",
       "    <tr>\n",
       "      <th>4</th>\n",
       "      <td>Processed</td>\n",
       "      <td>VJ300320611</td>\n",
       "      <td>Brunswick Sq Mall</td>\n",
       "      <td>BSQ Mall x1366 - ATT</td>\n",
       "      <td>Red Bull - Energy Drink - Sugar Free</td>\n",
       "      <td>Carbonated</td>\n",
       "      <td>14516021756</td>\n",
       "      <td>Saturday, January 1, 2022</td>\n",
       "      <td>Credit</td>\n",
       "      <td>148</td>\n",
       "      <td>3.5</td>\n",
       "      <td>1</td>\n",
       "      <td>148</td>\n",
       "      <td>3.5</td>\n",
       "      <td>1</td>\n",
       "      <td>3.5</td>\n",
       "      <td>3.5</td>\n",
       "      <td>1/1/2022</td>\n",
       "    </tr>\n",
       "  </tbody>\n",
       "</table>\n",
       "</div>"
      ],
      "text/plain": [
       "      Status    Device ID           Location               Machine  \\\n",
       "0  Processed  VJ300320611  Brunswick Sq Mall  BSQ Mall x1366 - ATT   \n",
       "1  Processed  VJ300320611  Brunswick Sq Mall  BSQ Mall x1366 - ATT   \n",
       "2  Processed  VJ300320611  Brunswick Sq Mall  BSQ Mall x1366 - ATT   \n",
       "3  Processed  VJ300320611  Brunswick Sq Mall  BSQ Mall x1366 - ATT   \n",
       "4  Processed  VJ300320611  Brunswick Sq Mall  BSQ Mall x1366 - ATT   \n",
       "\n",
       "                                Product    Category  Transaction  \\\n",
       "0  Red Bull - Energy Drink - Sugar Free  Carbonated  14515778905   \n",
       "1  Red Bull - Energy Drink - Sugar Free  Carbonated  14516018629   \n",
       "2      Takis - Hot Chilli Pepper & Lime        Food  14516018629   \n",
       "3      Takis - Hot Chilli Pepper & Lime        Food  14516020373   \n",
       "4  Red Bull - Energy Drink - Sugar Free  Carbonated  14516021756   \n",
       "\n",
       "                   TransDate    Type  RCoil  RPrice  RQty  MCoil  MPrice  \\\n",
       "0  Saturday, January 1, 2022  Credit    148     3.5     1    148     3.5   \n",
       "1  Saturday, January 1, 2022  Credit    148     3.5     1    148     3.5   \n",
       "2  Saturday, January 1, 2022  Credit    123     1.5     1    123     1.5   \n",
       "3  Saturday, January 1, 2022  Credit    123     1.5     1    123     1.5   \n",
       "4  Saturday, January 1, 2022  Credit    148     3.5     1    148     3.5   \n",
       "\n",
       "   MQty  LineTotal  TransTotal Prcd Date  \n",
       "0     1        3.5         3.5  1/1/2022  \n",
       "1     1        3.5         5.0  1/1/2022  \n",
       "2     1        1.5         5.0  1/1/2022  \n",
       "3     1        1.5         1.5  1/1/2022  \n",
       "4     1        3.5         3.5  1/1/2022  "
      ]
     },
     "execution_count": 12,
     "metadata": {},
     "output_type": "execute_result"
    }
   ],
   "source": [
    "db.head()"
   ]
  },
  {
   "cell_type": "code",
   "execution_count": 13,
   "id": "287df9e8",
   "metadata": {},
   "outputs": [
    {
     "data": {
      "text/plain": [
       "(6445, 18)"
      ]
     },
     "execution_count": 13,
     "metadata": {},
     "output_type": "execute_result"
    }
   ],
   "source": [
    "db.shape"
   ]
  },
  {
   "cell_type": "markdown",
   "id": "a1c26a96",
   "metadata": {},
   "source": [
    "# Missing Values and Type Checks <a class=\"anchor\" id=\"second-bullet\"></a>\n",
    "[Index](#index) <a class=\"anchor\" id=\"index\"></a>"
   ]
  },
  {
   "cell_type": "markdown",
   "id": "745e322d",
   "metadata": {},
   "source": [
    "A check for missing values has then been conducted: "
   ]
  },
  {
   "cell_type": "code",
   "execution_count": 14,
   "id": "666cde8f",
   "metadata": {},
   "outputs": [
    {
     "data": {
      "text/plain": [
       "Status           0\n",
       "Device ID        0\n",
       "Location         0\n",
       "Machine          0\n",
       "Product          4\n",
       "Category       185\n",
       "Transaction      0\n",
       "TransDate        0\n",
       "Type             0\n",
       "RCoil            0\n",
       "RPrice           0\n",
       "RQty             0\n",
       "MCoil            0\n",
       "MPrice           1\n",
       "MQty             0\n",
       "LineTotal        0\n",
       "TransTotal       0\n",
       "Prcd Date        0\n",
       "dtype: int64"
      ]
     },
     "execution_count": 14,
     "metadata": {},
     "output_type": "execute_result"
    }
   ],
   "source": [
    "db.isnull().sum()"
   ]
  },
  {
   "cell_type": "markdown",
   "id": "1bcbabea",
   "metadata": {},
   "source": [
    "For further analyses, the index of the missing values is retrieved:"
   ]
  },
  {
   "cell_type": "code",
   "execution_count": 15,
   "id": "19fa27e1",
   "metadata": {},
   "outputs": [
    {
     "data": {
      "text/plain": [
       "[5500]"
      ]
     },
     "execution_count": 15,
     "metadata": {},
     "output_type": "execute_result"
    }
   ],
   "source": [
    "db[db['MPrice'].isnull()].index.tolist()"
   ]
  },
  {
   "cell_type": "code",
   "execution_count": 16,
   "id": "3067fc01",
   "metadata": {},
   "outputs": [
    {
     "data": {
      "text/plain": [
       "[1232, 1431, 1439, 5500]"
      ]
     },
     "execution_count": 16,
     "metadata": {},
     "output_type": "execute_result"
    }
   ],
   "source": [
    "db[db['Product'].isnull()].index.tolist()"
   ]
  },
  {
   "cell_type": "code",
   "execution_count": 17,
   "id": "de1c8981",
   "metadata": {
    "collapsed": true,
    "jupyter": {
     "outputs_hidden": true
    }
   },
   "outputs": [
    {
     "data": {
      "text/plain": [
       "[1232,\n",
       " 1431,\n",
       " 1439,\n",
       " 1448,\n",
       " 1453,\n",
       " 1454,\n",
       " 1501,\n",
       " 1507,\n",
       " 1517,\n",
       " 1544,\n",
       " 1569,\n",
       " 1578,\n",
       " 1579,\n",
       " 1779,\n",
       " 1815,\n",
       " 2845,\n",
       " 2871,\n",
       " 2888,\n",
       " 2905,\n",
       " 2924,\n",
       " 2927,\n",
       " 2940,\n",
       " 2948,\n",
       " 2969,\n",
       " 2985,\n",
       " 3008,\n",
       " 3043,\n",
       " 3052,\n",
       " 3057,\n",
       " 3127,\n",
       " 3141,\n",
       " 3162,\n",
       " 3179,\n",
       " 3233,\n",
       " 3254,\n",
       " 3270,\n",
       " 3327,\n",
       " 3355,\n",
       " 3378,\n",
       " 3423,\n",
       " 3447,\n",
       " 3463,\n",
       " 3517,\n",
       " 3522,\n",
       " 3524,\n",
       " 3526,\n",
       " 3528,\n",
       " 3532,\n",
       " 3538,\n",
       " 3541,\n",
       " 3612,\n",
       " 3647,\n",
       " 3655,\n",
       " 3674,\n",
       " 3693,\n",
       " 3707,\n",
       " 3708,\n",
       " 3765,\n",
       " 3766,\n",
       " 3768,\n",
       " 3771,\n",
       " 3772,\n",
       " 3779,\n",
       " 3784,\n",
       " 3790,\n",
       " 3792,\n",
       " 3794,\n",
       " 3849,\n",
       " 3864,\n",
       " 3903,\n",
       " 3917,\n",
       " 3928,\n",
       " 3955,\n",
       " 3965,\n",
       " 3996,\n",
       " 4012,\n",
       " 4036,\n",
       " 4089,\n",
       " 4090,\n",
       " 4091,\n",
       " 4095,\n",
       " 4099,\n",
       " 4100,\n",
       " 4104,\n",
       " 4113,\n",
       " 4116,\n",
       " 4117,\n",
       " 4131,\n",
       " 4135,\n",
       " 4136,\n",
       " 4144,\n",
       " 4156,\n",
       " 4161,\n",
       " 4181,\n",
       " 4192,\n",
       " 4202,\n",
       " 4214,\n",
       " 4229,\n",
       " 4237,\n",
       " 4238,\n",
       " 4274,\n",
       " 4294,\n",
       " 4296,\n",
       " 4306,\n",
       " 4321,\n",
       " 4341,\n",
       " 4345,\n",
       " 4350,\n",
       " 4364,\n",
       " 4365,\n",
       " 4375,\n",
       " 4384,\n",
       " 4420,\n",
       " 4425,\n",
       " 4430,\n",
       " 4431,\n",
       " 4432,\n",
       " 4451,\n",
       " 4465,\n",
       " 4471,\n",
       " 4505,\n",
       " 4508,\n",
       " 4520,\n",
       " 4524,\n",
       " 4528,\n",
       " 4532,\n",
       " 4543,\n",
       " 4565,\n",
       " 4566,\n",
       " 4584,\n",
       " 4585,\n",
       " 4597,\n",
       " 4607,\n",
       " 4625,\n",
       " 4626,\n",
       " 4638,\n",
       " 4676,\n",
       " 4768,\n",
       " 4770,\n",
       " 4796,\n",
       " 4826,\n",
       " 4864,\n",
       " 4866,\n",
       " 4888,\n",
       " 4928,\n",
       " 4953,\n",
       " 4959,\n",
       " 4960,\n",
       " 4963,\n",
       " 4984,\n",
       " 5013,\n",
       " 5139,\n",
       " 5163,\n",
       " 5193,\n",
       " 5203,\n",
       " 5207,\n",
       " 5209,\n",
       " 5218,\n",
       " 5375,\n",
       " 5389,\n",
       " 5439,\n",
       " 5500,\n",
       " 5844,\n",
       " 5867,\n",
       " 5886,\n",
       " 5938,\n",
       " 5945,\n",
       " 5955,\n",
       " 5973,\n",
       " 5986,\n",
       " 6064,\n",
       " 6076,\n",
       " 6087,\n",
       " 6102,\n",
       " 6126,\n",
       " 6147,\n",
       " 6190,\n",
       " 6270,\n",
       " 6285,\n",
       " 6303,\n",
       " 6320,\n",
       " 6344,\n",
       " 6357,\n",
       " 6429,\n",
       " 6431]"
      ]
     },
     "execution_count": 17,
     "metadata": {},
     "output_type": "execute_result"
    }
   ],
   "source": [
    "mis=db[db['Category'].isnull()].index.tolist()\n",
    "mis"
   ]
  },
  {
   "cell_type": "markdown",
   "id": "72403334",
   "metadata": {},
   "source": [
    "Seeing that most of the missing values are in the attribute \"Category\" but not in the attribute \"Product\", it is possible to retreive the name of the product so that the missing value can be replaced manually leading to no data loss:"
   ]
  },
  {
   "cell_type": "code",
   "execution_count": 18,
   "id": "80ea1b05",
   "metadata": {},
   "outputs": [
    {
     "data": {
      "text/plain": [
       "{'Canada Dry - Ginger Ale',\n",
       " 'Canada Dry - Ginger Ale & Lemonde',\n",
       " 'Doritos Dinamita Chile Lemon',\n",
       " 'Doritos Spicy Nacho',\n",
       " 'Mini Chips Ahoy - Go Paks',\n",
       " 'Oreo Mini - Go Paks',\n",
       " 'Starbucks Doubleshot Energy - Coffee',\n",
       " 'Teddy Grahams - Go Paks',\n",
       " nan}"
      ]
     },
     "execution_count": 18,
     "metadata": {},
     "output_type": "execute_result"
    }
   ],
   "source": [
    "missing=set(db['Product'][mis])\n",
    "missing"
   ]
  },
  {
   "cell_type": "markdown",
   "id": "a42372f3",
   "metadata": {},
   "source": [
    "Filling up of NaNs can is done with the following loop:"
   ]
  },
  {
   "cell_type": "code",
   "execution_count": 19,
   "id": "da10eb23",
   "metadata": {},
   "outputs": [],
   "source": [
    "for i in mis:\n",
    "    if db['Product'][i]=='Canada Dry - Ginger Ale':\n",
    "        db['Category'][i]='Carbonated'\n",
    "    if db['Product'][i]=='Canada Dry - Ginger Ale & Lemonde':\n",
    "        db['Category'][i]='Carbonated'\n",
    "    if db['Product'][i]=='Doritos Dinamita Chile Lemon':\n",
    "        db['Category'][i]='Food'\n",
    "    if db['Product'][i]=='Doritos Spicy Nacho':\n",
    "        db['Category'][i]='Food'\n",
    "    if db['Product'][i]=='Mini Chips Ahoy - Go Paks':\n",
    "        db['Category'][i]='Food'\n",
    "    if db['Product'][i]=='Oreo Mini - Go Paks':\n",
    "        db['Category'][i]='Food'\n",
    "    if db['Product'][i]=='Starbucks Doubleshot Energy - Coffee':\n",
    "        db['Category'][i]='Non Carbonated'\n",
    "    if db['Product'][i]=='Teddy Grahams - Go Paks':\n",
    "        db['Category'][i]='Food'"
   ]
  },
  {
   "cell_type": "markdown",
   "id": "bddde1a6",
   "metadata": {},
   "source": [
    "There should still remain 4 missing values in the feature \"Category\" corresponding to those entries that also have a misisng value in the \"Product\" feature:"
   ]
  },
  {
   "cell_type": "code",
   "execution_count": 20,
   "id": "66e9d2b7",
   "metadata": {},
   "outputs": [
    {
     "data": {
      "text/plain": [
       "[1232, 1431, 1439, 5500]"
      ]
     },
     "execution_count": 20,
     "metadata": {},
     "output_type": "execute_result"
    }
   ],
   "source": [
    "mis=db[db['Category'].isnull()].index.tolist()\n",
    "mis"
   ]
  },
  {
   "cell_type": "code",
   "execution_count": 21,
   "id": "2e7d6e67",
   "metadata": {},
   "outputs": [],
   "source": [
    "newdb=db.drop(mis,axis=0)"
   ]
  },
  {
   "cell_type": "code",
   "execution_count": 22,
   "id": "1c3c4050",
   "metadata": {},
   "outputs": [
    {
     "data": {
      "text/plain": [
       "(6441, 18)"
      ]
     },
     "execution_count": 22,
     "metadata": {},
     "output_type": "execute_result"
    }
   ],
   "source": [
    "newdb.shape"
   ]
  },
  {
   "cell_type": "markdown",
   "id": "6d1c858c",
   "metadata": {},
   "source": [
    "As no further operation is possibile to retrive the 4 missing values left, they have been dropped. Being that they are only 4, out of a total of 6445 observations, the risk of data loss is fairly limited."
   ]
  },
  {
   "cell_type": "markdown",
   "id": "773c6ca5",
   "metadata": {},
   "source": [
    "Checks of the types of inputs data are then performed:"
   ]
  },
  {
   "cell_type": "code",
   "execution_count": 23,
   "id": "99eb87ad",
   "metadata": {},
   "outputs": [
    {
     "name": "stdout",
     "output_type": "stream",
     "text": [
      "<class 'pandas.core.frame.DataFrame'>\n",
      "Int64Index: 6441 entries, 0 to 6444\n",
      "Data columns (total 18 columns):\n",
      " #   Column       Non-Null Count  Dtype  \n",
      "---  ------       --------------  -----  \n",
      " 0   Status       6441 non-null   object \n",
      " 1   Device ID    6441 non-null   object \n",
      " 2   Location     6441 non-null   object \n",
      " 3   Machine      6441 non-null   object \n",
      " 4   Product      6441 non-null   object \n",
      " 5   Category     6441 non-null   object \n",
      " 6   Transaction  6441 non-null   int64  \n",
      " 7   TransDate    6441 non-null   object \n",
      " 8   Type         6441 non-null   object \n",
      " 9   RCoil        6441 non-null   int64  \n",
      " 10  RPrice       6441 non-null   float64\n",
      " 11  RQty         6441 non-null   int64  \n",
      " 12  MCoil        6441 non-null   int64  \n",
      " 13  MPrice       6441 non-null   float64\n",
      " 14  MQty         6441 non-null   int64  \n",
      " 15  LineTotal    6441 non-null   float64\n",
      " 16  TransTotal   6441 non-null   float64\n",
      " 17  Prcd Date    6441 non-null   object \n",
      "dtypes: float64(4), int64(5), object(9)\n",
      "memory usage: 956.1+ KB\n"
     ]
    }
   ],
   "source": [
    "newdb.info()"
   ]
  },
  {
   "cell_type": "markdown",
   "id": "f7d43f80",
   "metadata": {},
   "source": [
    "An additional check to see whether the feature \"Status\" presents a unique value or more than one has then been performed with the result that the column contains only one value (namely \"Processed\"):"
   ]
  },
  {
   "cell_type": "code",
   "execution_count": 24,
   "id": "ef72b607",
   "metadata": {},
   "outputs": [
    {
     "data": {
      "text/plain": [
       "array(['Processed'], dtype=object)"
      ]
     },
     "execution_count": 24,
     "metadata": {},
     "output_type": "execute_result"
    }
   ],
   "source": [
    "newdb[\"Status\"].unique()"
   ]
  },
  {
   "cell_type": "markdown",
   "id": "ec8881e9",
   "metadata": {},
   "source": [
    "# Correlation Checks <a class=\"anchor\" id=\"corr-bullet\"></a>\n",
    "[Index](#index) <a class=\"anchor\" id=\"index\"></a>\n",
    "<br> <br>"
   ]
  },
  {
   "cell_type": "code",
   "execution_count": 25,
   "id": "bc67ecfb",
   "metadata": {},
   "outputs": [],
   "source": [
    "corr_matrix=newdb.corr()"
   ]
  },
  {
   "cell_type": "code",
   "execution_count": 26,
   "id": "a7d7aac3",
   "metadata": {},
   "outputs": [
    {
     "data": {
      "text/plain": [
       "<AxesSubplot:>"
      ]
     },
     "execution_count": 26,
     "metadata": {},
     "output_type": "execute_result"
    },
    {
     "data": {
      "image/png": "[encoded data removed]",
      "text/plain": [
       "<Figure size 2160x1080 with 2 Axes>"
      ]
     },
     "metadata": {
      "needs_background": "light"
     },
     "output_type": "display_data"
    }
   ],
   "source": [
    "plt.figure(figsize=(30,15))\n",
    "sns.heatmap(corr_matrix,annot=True,cmap=\"YlGnBu\")"
   ]
  },
  {
   "cell_type": "markdown",
   "id": "b8363071",
   "metadata": {},
   "source": [
    "From the correlation matrix it can be seen that some variables present really high (even perfect in some case) correlation with each other. Correlation can cause issues in several algorithms and models, for this reason, this highly correlated variables will be better explored in the subsequent section. "
   ]
  },
  {
   "cell_type": "markdown",
   "id": "c024a86d",
   "metadata": {},
   "source": [
    "# Dealing with Excess Columns <a class=\"anchor\" id=\"third-bullet\"></a>\n",
    "[Index](#index) <a class=\"anchor\" id=\"index\"></a>\n",
    "<br> <br>"
   ]
  },
  {
   "cell_type": "markdown",
   "id": "f9dfdd61",
   "metadata": {},
   "source": [
    "In this subsection, all excess columns will be dropped.\n",
    "To begin with, it can be seen that Coil, Qty, and Price are present in two differnt variations inside the provided dataset. Given that the correlation between the variations is perfect (Pearson's correlation coefficient=1), as highlighted by the correlation matrix, it is very likely that the variations of the aforementioned columns are identical. An assesment of whether they contain the same information is therefore run:"
   ]
  },
  {
   "cell_type": "code",
   "execution_count": 27,
   "id": "f3b77505",
   "metadata": {},
   "outputs": [
    {
     "data": {
      "text/plain": [
       "6441"
      ]
     },
     "execution_count": 27,
     "metadata": {},
     "output_type": "execute_result"
    }
   ],
   "source": [
    "sum(newdb[\"RCoil\"]==newdb[\"MCoil\"])"
   ]
  },
  {
   "cell_type": "code",
   "execution_count": 28,
   "id": "3144453e",
   "metadata": {},
   "outputs": [
    {
     "data": {
      "text/plain": [
       "6441"
      ]
     },
     "execution_count": 28,
     "metadata": {},
     "output_type": "execute_result"
    }
   ],
   "source": [
    "sum(newdb[\"RQty\"]==newdb[\"MQty\"])"
   ]
  },
  {
   "cell_type": "code",
   "execution_count": 29,
   "id": "a187988e",
   "metadata": {},
   "outputs": [
    {
     "data": {
      "text/plain": [
       "6441"
      ]
     },
     "execution_count": 29,
     "metadata": {},
     "output_type": "execute_result"
    }
   ],
   "source": [
    "sum(newdb[\"RPrice\"]==newdb[\"MPrice\"])"
   ]
  },
  {
   "cell_type": "markdown",
   "id": "33eaf438",
   "metadata": {},
   "source": [
    "The assesment conducted, yielded the result that the information contained in the columns compared are the same. Now the same procedure is also run for \"RPrice\" and \"LineTotal\" that, in theory, should present at least some different values:"
   ]
  },
  {
   "cell_type": "code",
   "execution_count": 30,
   "id": "41f48eb0",
   "metadata": {},
   "outputs": [
    {
     "data": {
      "text/plain": [
       "6360"
      ]
     },
     "execution_count": 30,
     "metadata": {},
     "output_type": "execute_result"
    }
   ],
   "source": [
    "sum(newdb[\"RPrice\"]==newdb[\"LineTotal\"])"
   ]
  },
  {
   "cell_type": "markdown",
   "id": "a4693349",
   "metadata": {},
   "source": [
    "And indeed they do."
   ]
  },
  {
   "cell_type": "markdown",
   "id": "fa1dce68",
   "metadata": {},
   "source": [
    "Now, a check to see whether there are some Transaction ID that are repeated in several dates has been conducted:"
   ]
  },
  {
   "cell_type": "code",
   "execution_count": 31,
   "id": "a0eb2c75",
   "metadata": {},
   "outputs": [
    {
     "data": {
      "text/html": [
       "<div>\n",
       "<style scoped>\n",
       "    .dataframe tbody tr th:only-of-type {\n",
       "        vertical-align: middle;\n",
       "    }\n",
       "\n",
       "    .dataframe tbody tr th {\n",
       "        vertical-align: top;\n",
       "    }\n",
       "\n",
       "    .dataframe thead th {\n",
       "        text-align: right;\n",
       "    }\n",
       "</style>\n",
       "<table border=\"1\" class=\"dataframe\">\n",
       "  <thead>\n",
       "    <tr style=\"text-align: right;\">\n",
       "      <th></th>\n",
       "      <th>Status</th>\n",
       "      <th>Device ID</th>\n",
       "      <th>Location</th>\n",
       "      <th>Machine</th>\n",
       "      <th>Product</th>\n",
       "      <th>Category</th>\n",
       "      <th>Transaction</th>\n",
       "      <th>TransDate</th>\n",
       "      <th>Type</th>\n",
       "      <th>RCoil</th>\n",
       "      <th>RPrice</th>\n",
       "      <th>RQty</th>\n",
       "      <th>MCoil</th>\n",
       "      <th>MPrice</th>\n",
       "      <th>MQty</th>\n",
       "      <th>LineTotal</th>\n",
       "      <th>TransTotal</th>\n",
       "      <th>Prcd Date</th>\n",
       "    </tr>\n",
       "  </thead>\n",
       "  <tbody>\n",
       "  </tbody>\n",
       "</table>\n",
       "</div>"
      ],
      "text/plain": [
       "Empty DataFrame\n",
       "Columns: [Status, Device ID, Location, Machine, Product, Category, Transaction, TransDate, Type, RCoil, RPrice, RQty, MCoil, MPrice, MQty, LineTotal, TransTotal, Prcd Date]\n",
       "Index: []"
      ]
     },
     "execution_count": 31,
     "metadata": {},
     "output_type": "execute_result"
    }
   ],
   "source": [
    "df1 = newdb[newdb.groupby('Transaction')['TransDate'].transform('nunique').ne(1)]\n",
    "df1"
   ]
  },
  {
   "cell_type": "markdown",
   "id": "da21ff6b",
   "metadata": {},
   "source": [
    "Given that the new dataframe is empty, there are no repeated Transaction ID in different days. "
   ]
  },
  {
   "cell_type": "markdown",
   "id": "be869570",
   "metadata": {},
   "source": [
    "It is now possible to drop the excess columns, meanining those that do not provide additional information to then be used for prediction or data analysis in general:"
   ]
  },
  {
   "cell_type": "code",
   "execution_count": 32,
   "id": "a79140fb",
   "metadata": {},
   "outputs": [],
   "source": [
    "n_db=newdb.drop([\"Status\",\"Device ID\",\"MCoil\",\"MPrice\",\"MQty\",\"Transaction\"],axis=1)"
   ]
  },
  {
   "cell_type": "markdown",
   "id": "1cd1d549",
   "metadata": {},
   "source": [
    "In particular, \"MPrice\", \"MQty\", and \"MCoil\" have been dropped as they provide the same information of \"RCoil\", \"RQty\", and \"RPrice\", while \"Status\" has been dropped because it presents a single values, as showed in the section above. \"Devide ID\" was dropped as the name of the vending machine is present in the dataset, and so having a feature containing the ID would just be a duplicate information. Last but not least, \"Transaction\" was dropped aswell since it is just a number indexing transactions, it does not provide additional useful information. "
   ]
  },
  {
   "cell_type": "markdown",
   "id": "8e675b54",
   "metadata": {},
   "source": [
    "# Data Visualization and Outliers Checks <a class=\"anchor\" id=\"fourth-bullet\"></a>\n",
    "[Index](#index) <a class=\"anchor\" id=\"index\"></a>\n",
    "<br> <br>"
   ]
  },
  {
   "cell_type": "markdown",
   "id": "1b2a407c",
   "metadata": {},
   "source": [
    "Histograms of remaining data have been plotted to see their approximate distributions:"
   ]
  },
  {
   "cell_type": "code",
   "execution_count": 33,
   "id": "735461ef",
   "metadata": {},
   "outputs": [
    {
     "data": {
      "text/plain": [
       "array([[<AxesSubplot:title={'center':'RCoil'}>,\n",
       "        <AxesSubplot:title={'center':'RPrice'}>],\n",
       "       [<AxesSubplot:title={'center':'RQty'}>,\n",
       "        <AxesSubplot:title={'center':'LineTotal'}>],\n",
       "       [<AxesSubplot:title={'center':'TransTotal'}>, <AxesSubplot:>]],\n",
       "      dtype=object)"
      ]
     },
     "execution_count": 33,
     "metadata": {},
     "output_type": "execute_result"
    },
    {
     "data": {
      "image/png": "[encoded data removed]",
      "text/plain": [
       "<Figure size 2160x2160 with 6 Axes>"
      ]
     },
     "metadata": {
      "needs_background": "light"
     },
     "output_type": "display_data"
    }
   ],
   "source": [
    "n_db.hist(bins=50, figsize=(30,30))"
   ]
  },
  {
   "cell_type": "markdown",
   "id": "9fcc9057",
   "metadata": {},
   "source": [
    "Data seem in line with the expectationa and do not seem to be very unbalanced. Given that no detailed information about the nature of the data are available, no further action has been taken to rescale/normalize the data for the time being. "
   ]
  },
  {
   "cell_type": "markdown",
   "id": "2b89147e",
   "metadata": {},
   "source": [
    "A check for the presence of outliers has then been performed. The check has been, to begin with, done graphically with boxplots. Progressively, columns have been removed so that also visualisation of features with smaller magnitude was possible:"
   ]
  },
  {
   "cell_type": "code",
   "execution_count": 34,
   "id": "afe5142b",
   "metadata": {},
   "outputs": [
    {
     "data": {
      "text/plain": [
       "<AxesSubplot:>"
      ]
     },
     "execution_count": 34,
     "metadata": {},
     "output_type": "execute_result"
    },
    {
     "data": {
      "image/png": "[encoded data removed]",
      "text/plain": [
       "<Figure size 2160x1440 with 1 Axes>"
      ]
     },
     "metadata": {
      "needs_background": "light"
     },
     "output_type": "display_data"
    }
   ],
   "source": [
    "newdb_no_trans=newdb.copy()\n",
    "newdb_no_trans=newdb_no_trans.drop(\"Transaction\",axis=1)\n",
    "plt.figure(figsize=(30, 20))\n",
    "sns.boxplot(data=newdb_no_trans)"
   ]
  },
  {
   "cell_type": "code",
   "execution_count": 35,
   "id": "92f0dce0",
   "metadata": {},
   "outputs": [
    {
     "data": {
      "text/plain": [
       "<AxesSubplot:>"
      ]
     },
     "execution_count": 35,
     "metadata": {},
     "output_type": "execute_result"
    },
    {
     "data": {
      "image/png": "[encoded data removed]",
      "text/plain": [
       "<Figure size 2160x1440 with 1 Axes>"
      ]
     },
     "metadata": {
      "needs_background": "light"
     },
     "output_type": "display_data"
    }
   ],
   "source": [
    "newdb_no_big=newdb.copy()\n",
    "newdb_no_big=newdb_no_big.drop([\"Transaction\",\"RCoil\",\"MCoil\"],axis=1)\n",
    "plt.figure(figsize=(30, 20))\n",
    "sns.boxplot(data=newdb_no_big)"
   ]
  },
  {
   "cell_type": "code",
   "execution_count": 36,
   "id": "03e35f0b",
   "metadata": {},
   "outputs": [
    {
     "data": {
      "text/plain": [
       "<AxesSubplot:>"
      ]
     },
     "execution_count": 36,
     "metadata": {},
     "output_type": "execute_result"
    },
    {
     "data": {
      "image/png": "[encoded data removed]",
      "text/plain": [
       "<Figure size 2160x1440 with 1 Axes>"
      ]
     },
     "metadata": {
      "needs_background": "light"
     },
     "output_type": "display_data"
    }
   ],
   "source": [
    "newdb_no_big2=newdb.copy()\n",
    "newdb_no_big2=newdb_no_big2.drop([\"Transaction\",\"RCoil\",\"MCoil\",\"RQty\",\"MQty\"],axis=1)\n",
    "plt.figure(figsize=(30, 20))\n",
    "sns.boxplot(data=newdb_no_big2)"
   ]
  },
  {
   "cell_type": "markdown",
   "id": "9ca90af6",
   "metadata": {},
   "source": [
    "There seems not to be any absurd value in any of the feature. To double check this, the feature \"TransTotal\", which will also be the target variable of the analysis, is analysed more in depth:"
   ]
  },
  {
   "cell_type": "code",
   "execution_count": 37,
   "id": "603dcc7f",
   "metadata": {},
   "outputs": [
    {
     "data": {
      "text/html": [
       "<div>\n",
       "<style scoped>\n",
       "    .dataframe tbody tr th:only-of-type {\n",
       "        vertical-align: middle;\n",
       "    }\n",
       "\n",
       "    .dataframe tbody tr th {\n",
       "        vertical-align: top;\n",
       "    }\n",
       "\n",
       "    .dataframe thead th {\n",
       "        text-align: right;\n",
       "    }\n",
       "</style>\n",
       "<table border=\"1\" class=\"dataframe\">\n",
       "  <thead>\n",
       "    <tr style=\"text-align: right;\">\n",
       "      <th></th>\n",
       "      <th>Location</th>\n",
       "      <th>Machine</th>\n",
       "      <th>Product</th>\n",
       "      <th>Category</th>\n",
       "      <th>TransDate</th>\n",
       "      <th>Type</th>\n",
       "      <th>RCoil</th>\n",
       "      <th>RPrice</th>\n",
       "      <th>RQty</th>\n",
       "      <th>LineTotal</th>\n",
       "      <th>TransTotal</th>\n",
       "      <th>Prcd Date</th>\n",
       "    </tr>\n",
       "  </thead>\n",
       "  <tbody>\n",
       "    <tr>\n",
       "      <th>679</th>\n",
       "      <td>GuttenPlans</td>\n",
       "      <td>GuttenPlans x1367</td>\n",
       "      <td>Jack Links Beef Steak Original</td>\n",
       "      <td>Food</td>\n",
       "      <td>Friday, February 11, 2022</td>\n",
       "      <td>Credit</td>\n",
       "      <td>133</td>\n",
       "      <td>2.00</td>\n",
       "      <td>1</td>\n",
       "      <td>2.00</td>\n",
       "      <td>6.50</td>\n",
       "      <td>2/11/2022</td>\n",
       "    </tr>\n",
       "    <tr>\n",
       "      <th>680</th>\n",
       "      <td>GuttenPlans</td>\n",
       "      <td>GuttenPlans x1367</td>\n",
       "      <td>Popchips Potato - Barbeque</td>\n",
       "      <td>Food</td>\n",
       "      <td>Friday, February 11, 2022</td>\n",
       "      <td>Credit</td>\n",
       "      <td>114</td>\n",
       "      <td>1.50</td>\n",
       "      <td>1</td>\n",
       "      <td>1.50</td>\n",
       "      <td>6.50</td>\n",
       "      <td>2/11/2022</td>\n",
       "    </tr>\n",
       "    <tr>\n",
       "      <th>681</th>\n",
       "      <td>GuttenPlans</td>\n",
       "      <td>GuttenPlans x1367</td>\n",
       "      <td>Monster Energy Original</td>\n",
       "      <td>Carbonated</td>\n",
       "      <td>Friday, February 11, 2022</td>\n",
       "      <td>Credit</td>\n",
       "      <td>144</td>\n",
       "      <td>3.00</td>\n",
       "      <td>1</td>\n",
       "      <td>3.00</td>\n",
       "      <td>6.50</td>\n",
       "      <td>2/11/2022</td>\n",
       "    </tr>\n",
       "    <tr>\n",
       "      <th>782</th>\n",
       "      <td>Brunswick Sq Mall</td>\n",
       "      <td>BSQ Mall x1366 - ATT</td>\n",
       "      <td>Red Bull - Original</td>\n",
       "      <td>Carbonated</td>\n",
       "      <td>Thursday, February 17, 2022</td>\n",
       "      <td>Credit</td>\n",
       "      <td>148</td>\n",
       "      <td>3.50</td>\n",
       "      <td>2</td>\n",
       "      <td>7.00</td>\n",
       "      <td>7.00</td>\n",
       "      <td>2/17/2022</td>\n",
       "    </tr>\n",
       "    <tr>\n",
       "      <th>783</th>\n",
       "      <td>GuttenPlans</td>\n",
       "      <td>GuttenPlans x1367</td>\n",
       "      <td>Jack Links Beef Steak Original</td>\n",
       "      <td>Food</td>\n",
       "      <td>Thursday, February 17, 2022</td>\n",
       "      <td>Credit</td>\n",
       "      <td>133</td>\n",
       "      <td>2.00</td>\n",
       "      <td>1</td>\n",
       "      <td>2.00</td>\n",
       "      <td>7.00</td>\n",
       "      <td>2/17/2022</td>\n",
       "    </tr>\n",
       "    <tr>\n",
       "      <th>784</th>\n",
       "      <td>GuttenPlans</td>\n",
       "      <td>GuttenPlans x1367</td>\n",
       "      <td>KitKat - Crisp Wafers</td>\n",
       "      <td>Food</td>\n",
       "      <td>Thursday, February 17, 2022</td>\n",
       "      <td>Credit</td>\n",
       "      <td>134</td>\n",
       "      <td>2.00</td>\n",
       "      <td>1</td>\n",
       "      <td>2.00</td>\n",
       "      <td>7.00</td>\n",
       "      <td>2/17/2022</td>\n",
       "    </tr>\n",
       "    <tr>\n",
       "      <th>785</th>\n",
       "      <td>GuttenPlans</td>\n",
       "      <td>GuttenPlans x1367</td>\n",
       "      <td>Monster Energy Original</td>\n",
       "      <td>Carbonated</td>\n",
       "      <td>Thursday, February 17, 2022</td>\n",
       "      <td>Credit</td>\n",
       "      <td>144</td>\n",
       "      <td>3.00</td>\n",
       "      <td>1</td>\n",
       "      <td>3.00</td>\n",
       "      <td>7.00</td>\n",
       "      <td>2/17/2022</td>\n",
       "    </tr>\n",
       "    <tr>\n",
       "      <th>801</th>\n",
       "      <td>GuttenPlans</td>\n",
       "      <td>GuttenPlans x1367</td>\n",
       "      <td>Jack Links Beef Steak Original</td>\n",
       "      <td>Food</td>\n",
       "      <td>Friday, February 18, 2022</td>\n",
       "      <td>Credit</td>\n",
       "      <td>133</td>\n",
       "      <td>2.00</td>\n",
       "      <td>1</td>\n",
       "      <td>2.00</td>\n",
       "      <td>6.50</td>\n",
       "      <td>2/18/2022</td>\n",
       "    </tr>\n",
       "    <tr>\n",
       "      <th>802</th>\n",
       "      <td>GuttenPlans</td>\n",
       "      <td>GuttenPlans x1367</td>\n",
       "      <td>KitKat - Crisp Wafers</td>\n",
       "      <td>Food</td>\n",
       "      <td>Friday, February 18, 2022</td>\n",
       "      <td>Credit</td>\n",
       "      <td>134</td>\n",
       "      <td>2.00</td>\n",
       "      <td>1</td>\n",
       "      <td>2.00</td>\n",
       "      <td>6.50</td>\n",
       "      <td>2/18/2022</td>\n",
       "    </tr>\n",
       "    <tr>\n",
       "      <th>803</th>\n",
       "      <td>GuttenPlans</td>\n",
       "      <td>GuttenPlans x1367</td>\n",
       "      <td>Snapple Tea - Raspberry</td>\n",
       "      <td>Non Carbonated</td>\n",
       "      <td>Friday, February 18, 2022</td>\n",
       "      <td>Credit</td>\n",
       "      <td>147</td>\n",
       "      <td>2.50</td>\n",
       "      <td>1</td>\n",
       "      <td>2.50</td>\n",
       "      <td>6.50</td>\n",
       "      <td>2/18/2022</td>\n",
       "    </tr>\n",
       "    <tr>\n",
       "      <th>2898</th>\n",
       "      <td>GuttenPlans</td>\n",
       "      <td>GuttenPlans x1367</td>\n",
       "      <td>Funyuns - Flaming Hot</td>\n",
       "      <td>Food</td>\n",
       "      <td>Monday, May 16, 2022</td>\n",
       "      <td>Credit</td>\n",
       "      <td>110</td>\n",
       "      <td>1.50</td>\n",
       "      <td>1</td>\n",
       "      <td>1.50</td>\n",
       "      <td>6.50</td>\n",
       "      <td>5/16/2022</td>\n",
       "    </tr>\n",
       "    <tr>\n",
       "      <th>2899</th>\n",
       "      <td>GuttenPlans</td>\n",
       "      <td>GuttenPlans x1367</td>\n",
       "      <td>Snapple Tea - Raspberry</td>\n",
       "      <td>Non Carbonated</td>\n",
       "      <td>Monday, May 16, 2022</td>\n",
       "      <td>Credit</td>\n",
       "      <td>147</td>\n",
       "      <td>2.50</td>\n",
       "      <td>1</td>\n",
       "      <td>2.50</td>\n",
       "      <td>6.50</td>\n",
       "      <td>5/16/2022</td>\n",
       "    </tr>\n",
       "    <tr>\n",
       "      <th>2900</th>\n",
       "      <td>GuttenPlans</td>\n",
       "      <td>GuttenPlans x1367</td>\n",
       "      <td>KitKat - Crisp Wafers</td>\n",
       "      <td>Food</td>\n",
       "      <td>Monday, May 16, 2022</td>\n",
       "      <td>Credit</td>\n",
       "      <td>138</td>\n",
       "      <td>2.50</td>\n",
       "      <td>1</td>\n",
       "      <td>2.50</td>\n",
       "      <td>6.50</td>\n",
       "      <td>5/16/2022</td>\n",
       "    </tr>\n",
       "    <tr>\n",
       "      <th>2933</th>\n",
       "      <td>GuttenPlans</td>\n",
       "      <td>GuttenPlans x1367</td>\n",
       "      <td>Snapple Tea - Raspberry</td>\n",
       "      <td>Non Carbonated</td>\n",
       "      <td>Tuesday, May 17, 2022</td>\n",
       "      <td>Credit</td>\n",
       "      <td>147</td>\n",
       "      <td>2.50</td>\n",
       "      <td>1</td>\n",
       "      <td>2.50</td>\n",
       "      <td>6.50</td>\n",
       "      <td>5/17/2022</td>\n",
       "    </tr>\n",
       "    <tr>\n",
       "      <th>2934</th>\n",
       "      <td>GuttenPlans</td>\n",
       "      <td>GuttenPlans x1367</td>\n",
       "      <td>Chesters Fries Flaming hot</td>\n",
       "      <td>Food</td>\n",
       "      <td>Tuesday, May 17, 2022</td>\n",
       "      <td>Credit</td>\n",
       "      <td>111</td>\n",
       "      <td>1.50</td>\n",
       "      <td>1</td>\n",
       "      <td>1.50</td>\n",
       "      <td>6.50</td>\n",
       "      <td>5/17/2022</td>\n",
       "    </tr>\n",
       "    <tr>\n",
       "      <th>2935</th>\n",
       "      <td>GuttenPlans</td>\n",
       "      <td>GuttenPlans x1367</td>\n",
       "      <td>KitKat - Crisp Wafers</td>\n",
       "      <td>Food</td>\n",
       "      <td>Tuesday, May 17, 2022</td>\n",
       "      <td>Credit</td>\n",
       "      <td>138</td>\n",
       "      <td>2.50</td>\n",
       "      <td>1</td>\n",
       "      <td>2.50</td>\n",
       "      <td>6.50</td>\n",
       "      <td>5/17/2022</td>\n",
       "    </tr>\n",
       "    <tr>\n",
       "      <th>2978</th>\n",
       "      <td>GuttenPlans</td>\n",
       "      <td>GuttenPlans x1367</td>\n",
       "      <td>Snapple Diet Tea - Lemon</td>\n",
       "      <td>Non Carbonated</td>\n",
       "      <td>Wednesday, May 18, 2022</td>\n",
       "      <td>Credit</td>\n",
       "      <td>143</td>\n",
       "      <td>2.50</td>\n",
       "      <td>1</td>\n",
       "      <td>2.50</td>\n",
       "      <td>6.50</td>\n",
       "      <td>5/18/2022</td>\n",
       "    </tr>\n",
       "    <tr>\n",
       "      <th>2979</th>\n",
       "      <td>GuttenPlans</td>\n",
       "      <td>GuttenPlans x1367</td>\n",
       "      <td>Lays - Classic</td>\n",
       "      <td>Food</td>\n",
       "      <td>Wednesday, May 18, 2022</td>\n",
       "      <td>Credit</td>\n",
       "      <td>125</td>\n",
       "      <td>1.50</td>\n",
       "      <td>1</td>\n",
       "      <td>1.50</td>\n",
       "      <td>6.50</td>\n",
       "      <td>5/18/2022</td>\n",
       "    </tr>\n",
       "    <tr>\n",
       "      <th>2980</th>\n",
       "      <td>GuttenPlans</td>\n",
       "      <td>GuttenPlans x1367</td>\n",
       "      <td>KitKat - Crisp Wafers</td>\n",
       "      <td>Food</td>\n",
       "      <td>Wednesday, May 18, 2022</td>\n",
       "      <td>Credit</td>\n",
       "      <td>138</td>\n",
       "      <td>2.50</td>\n",
       "      <td>1</td>\n",
       "      <td>2.50</td>\n",
       "      <td>6.50</td>\n",
       "      <td>5/18/2022</td>\n",
       "    </tr>\n",
       "    <tr>\n",
       "      <th>3121</th>\n",
       "      <td>EB Public Library</td>\n",
       "      <td>EB Public Library x1380</td>\n",
       "      <td>Bai Antioxidant - Tanzania Lemon Super Tea</td>\n",
       "      <td>Non Carbonated</td>\n",
       "      <td>Monday, May 23, 2022</td>\n",
       "      <td>Credit</td>\n",
       "      <td>145</td>\n",
       "      <td>2.75</td>\n",
       "      <td>1</td>\n",
       "      <td>2.75</td>\n",
       "      <td>6.25</td>\n",
       "      <td>5/23/2022</td>\n",
       "    </tr>\n",
       "    <tr>\n",
       "      <th>3122</th>\n",
       "      <td>EB Public Library</td>\n",
       "      <td>EB Public Library x1380</td>\n",
       "      <td>Red Bull - Energy Drink - Sugar Free</td>\n",
       "      <td>Carbonated</td>\n",
       "      <td>Monday, May 23, 2022</td>\n",
       "      <td>Credit</td>\n",
       "      <td>148</td>\n",
       "      <td>3.50</td>\n",
       "      <td>1</td>\n",
       "      <td>3.50</td>\n",
       "      <td>6.25</td>\n",
       "      <td>5/23/2022</td>\n",
       "    </tr>\n",
       "    <tr>\n",
       "      <th>3486</th>\n",
       "      <td>GuttenPlans</td>\n",
       "      <td>GuttenPlans x1367</td>\n",
       "      <td>Snapple Tea - Raspberry</td>\n",
       "      <td>Non Carbonated</td>\n",
       "      <td>Monday, June 6, 2022</td>\n",
       "      <td>Credit</td>\n",
       "      <td>147</td>\n",
       "      <td>2.50</td>\n",
       "      <td>1</td>\n",
       "      <td>2.50</td>\n",
       "      <td>6.50</td>\n",
       "      <td>6/6/2022</td>\n",
       "    </tr>\n",
       "    <tr>\n",
       "      <th>3487</th>\n",
       "      <td>GuttenPlans</td>\n",
       "      <td>GuttenPlans x1367</td>\n",
       "      <td>Funyuns - Flaming Hot</td>\n",
       "      <td>Food</td>\n",
       "      <td>Monday, June 6, 2022</td>\n",
       "      <td>Credit</td>\n",
       "      <td>125</td>\n",
       "      <td>1.50</td>\n",
       "      <td>1</td>\n",
       "      <td>1.50</td>\n",
       "      <td>6.50</td>\n",
       "      <td>6/6/2022</td>\n",
       "    </tr>\n",
       "    <tr>\n",
       "      <th>3488</th>\n",
       "      <td>GuttenPlans</td>\n",
       "      <td>GuttenPlans x1367</td>\n",
       "      <td>KitKat - Crisp Wafers</td>\n",
       "      <td>Food</td>\n",
       "      <td>Monday, June 6, 2022</td>\n",
       "      <td>Credit</td>\n",
       "      <td>136</td>\n",
       "      <td>2.50</td>\n",
       "      <td>1</td>\n",
       "      <td>2.50</td>\n",
       "      <td>6.50</td>\n",
       "      <td>6/6/2022</td>\n",
       "    </tr>\n",
       "    <tr>\n",
       "      <th>4011</th>\n",
       "      <td>EB Public Library</td>\n",
       "      <td>EB Public Library x1380</td>\n",
       "      <td>Pringles - Sour Cream &amp; Onion</td>\n",
       "      <td>Food</td>\n",
       "      <td>Wednesday, June 22, 2022</td>\n",
       "      <td>Credit</td>\n",
       "      <td>165</td>\n",
       "      <td>4.00</td>\n",
       "      <td>2</td>\n",
       "      <td>8.00</td>\n",
       "      <td>8.00</td>\n",
       "      <td>6/26/2022</td>\n",
       "    </tr>\n",
       "    <tr>\n",
       "      <th>4342</th>\n",
       "      <td>GuttenPlans</td>\n",
       "      <td>GuttenPlans x1367</td>\n",
       "      <td>KitKat - Crisp Wafers</td>\n",
       "      <td>Food</td>\n",
       "      <td>Friday, July 1, 2022</td>\n",
       "      <td>Credit</td>\n",
       "      <td>134</td>\n",
       "      <td>2.50</td>\n",
       "      <td>2</td>\n",
       "      <td>5.00</td>\n",
       "      <td>6.50</td>\n",
       "      <td>7/1/2022</td>\n",
       "    </tr>\n",
       "    <tr>\n",
       "      <th>4343</th>\n",
       "      <td>GuttenPlans</td>\n",
       "      <td>GuttenPlans x1367</td>\n",
       "      <td>Chesters Fries Flaming hot</td>\n",
       "      <td>Food</td>\n",
       "      <td>Friday, July 1, 2022</td>\n",
       "      <td>Credit</td>\n",
       "      <td>111</td>\n",
       "      <td>1.50</td>\n",
       "      <td>1</td>\n",
       "      <td>1.50</td>\n",
       "      <td>6.50</td>\n",
       "      <td>7/1/2022</td>\n",
       "    </tr>\n",
       "    <tr>\n",
       "      <th>5194</th>\n",
       "      <td>Brunswick Sq Mall</td>\n",
       "      <td>BSQ Mall x1364 - Zales</td>\n",
       "      <td>Monster Energy Original</td>\n",
       "      <td>Carbonated</td>\n",
       "      <td>Saturday, July 23, 2022</td>\n",
       "      <td>Credit</td>\n",
       "      <td>146</td>\n",
       "      <td>3.00</td>\n",
       "      <td>1</td>\n",
       "      <td>3.00</td>\n",
       "      <td>7.00</td>\n",
       "      <td>7/23/2022</td>\n",
       "    </tr>\n",
       "    <tr>\n",
       "      <th>5195</th>\n",
       "      <td>Brunswick Sq Mall</td>\n",
       "      <td>BSQ Mall x1364 - Zales</td>\n",
       "      <td>KitKat - Crisp Wafers</td>\n",
       "      <td>Food</td>\n",
       "      <td>Saturday, July 23, 2022</td>\n",
       "      <td>Credit</td>\n",
       "      <td>130</td>\n",
       "      <td>2.00</td>\n",
       "      <td>1</td>\n",
       "      <td>2.00</td>\n",
       "      <td>7.00</td>\n",
       "      <td>7/23/2022</td>\n",
       "    </tr>\n",
       "    <tr>\n",
       "      <th>5196</th>\n",
       "      <td>Brunswick Sq Mall</td>\n",
       "      <td>BSQ Mall x1364 - Zales</td>\n",
       "      <td>Wonderful Pistachios - Variety</td>\n",
       "      <td>Food</td>\n",
       "      <td>Saturday, July 23, 2022</td>\n",
       "      <td>Credit</td>\n",
       "      <td>131</td>\n",
       "      <td>2.00</td>\n",
       "      <td>1</td>\n",
       "      <td>2.00</td>\n",
       "      <td>7.00</td>\n",
       "      <td>7/23/2022</td>\n",
       "    </tr>\n",
       "    <tr>\n",
       "      <th>6063</th>\n",
       "      <td>EB Public Library</td>\n",
       "      <td>EB Public Library x1380</td>\n",
       "      <td>Pringles - Cheddar Cheese</td>\n",
       "      <td>Food</td>\n",
       "      <td>Friday, August 19, 2022</td>\n",
       "      <td>Credit</td>\n",
       "      <td>161</td>\n",
       "      <td>3.00</td>\n",
       "      <td>1</td>\n",
       "      <td>3.00</td>\n",
       "      <td>7.00</td>\n",
       "      <td>8/19/2022</td>\n",
       "    </tr>\n",
       "    <tr>\n",
       "      <th>6064</th>\n",
       "      <td>EB Public Library</td>\n",
       "      <td>EB Public Library x1380</td>\n",
       "      <td>Oreo Mini - Go Paks</td>\n",
       "      <td>Food</td>\n",
       "      <td>Friday, August 19, 2022</td>\n",
       "      <td>Credit</td>\n",
       "      <td>152</td>\n",
       "      <td>4.00</td>\n",
       "      <td>1</td>\n",
       "      <td>4.00</td>\n",
       "      <td>7.00</td>\n",
       "      <td>8/19/2022</td>\n",
       "    </tr>\n",
       "  </tbody>\n",
       "</table>\n",
       "</div>"
      ],
      "text/plain": [
       "               Location                  Machine  \\\n",
       "679         GuttenPlans        GuttenPlans x1367   \n",
       "680         GuttenPlans        GuttenPlans x1367   \n",
       "681         GuttenPlans        GuttenPlans x1367   \n",
       "782   Brunswick Sq Mall     BSQ Mall x1366 - ATT   \n",
       "783         GuttenPlans        GuttenPlans x1367   \n",
       "784         GuttenPlans        GuttenPlans x1367   \n",
       "785         GuttenPlans        GuttenPlans x1367   \n",
       "801         GuttenPlans        GuttenPlans x1367   \n",
       "802         GuttenPlans        GuttenPlans x1367   \n",
       "803         GuttenPlans        GuttenPlans x1367   \n",
       "2898        GuttenPlans        GuttenPlans x1367   \n",
       "2899        GuttenPlans        GuttenPlans x1367   \n",
       "2900        GuttenPlans        GuttenPlans x1367   \n",
       "2933        GuttenPlans        GuttenPlans x1367   \n",
       "2934        GuttenPlans        GuttenPlans x1367   \n",
       "2935        GuttenPlans        GuttenPlans x1367   \n",
       "2978        GuttenPlans        GuttenPlans x1367   \n",
       "2979        GuttenPlans        GuttenPlans x1367   \n",
       "2980        GuttenPlans        GuttenPlans x1367   \n",
       "3121  EB Public Library  EB Public Library x1380   \n",
       "3122  EB Public Library  EB Public Library x1380   \n",
       "3486        GuttenPlans        GuttenPlans x1367   \n",
       "3487        GuttenPlans        GuttenPlans x1367   \n",
       "3488        GuttenPlans        GuttenPlans x1367   \n",
       "4011  EB Public Library  EB Public Library x1380   \n",
       "4342        GuttenPlans        GuttenPlans x1367   \n",
       "4343        GuttenPlans        GuttenPlans x1367   \n",
       "5194  Brunswick Sq Mall   BSQ Mall x1364 - Zales   \n",
       "5195  Brunswick Sq Mall   BSQ Mall x1364 - Zales   \n",
       "5196  Brunswick Sq Mall   BSQ Mall x1364 - Zales   \n",
       "6063  EB Public Library  EB Public Library x1380   \n",
       "6064  EB Public Library  EB Public Library x1380   \n",
       "\n",
       "                                         Product        Category  \\\n",
       "679               Jack Links Beef Steak Original            Food   \n",
       "680                   Popchips Potato - Barbeque            Food   \n",
       "681                      Monster Energy Original      Carbonated   \n",
       "782                          Red Bull - Original      Carbonated   \n",
       "783               Jack Links Beef Steak Original            Food   \n",
       "784                        KitKat - Crisp Wafers            Food   \n",
       "785                      Monster Energy Original      Carbonated   \n",
       "801               Jack Links Beef Steak Original            Food   \n",
       "802                        KitKat - Crisp Wafers            Food   \n",
       "803                      Snapple Tea - Raspberry  Non Carbonated   \n",
       "2898                       Funyuns - Flaming Hot            Food   \n",
       "2899                     Snapple Tea - Raspberry  Non Carbonated   \n",
       "2900                       KitKat - Crisp Wafers            Food   \n",
       "2933                     Snapple Tea - Raspberry  Non Carbonated   \n",
       "2934                  Chesters Fries Flaming hot            Food   \n",
       "2935                       KitKat - Crisp Wafers            Food   \n",
       "2978                    Snapple Diet Tea - Lemon  Non Carbonated   \n",
       "2979                              Lays - Classic            Food   \n",
       "2980                       KitKat - Crisp Wafers            Food   \n",
       "3121  Bai Antioxidant - Tanzania Lemon Super Tea  Non Carbonated   \n",
       "3122        Red Bull - Energy Drink - Sugar Free      Carbonated   \n",
       "3486                     Snapple Tea - Raspberry  Non Carbonated   \n",
       "3487                       Funyuns - Flaming Hot            Food   \n",
       "3488                       KitKat - Crisp Wafers            Food   \n",
       "4011               Pringles - Sour Cream & Onion            Food   \n",
       "4342                       KitKat - Crisp Wafers            Food   \n",
       "4343                  Chesters Fries Flaming hot            Food   \n",
       "5194                     Monster Energy Original      Carbonated   \n",
       "5195                       KitKat - Crisp Wafers            Food   \n",
       "5196              Wonderful Pistachios - Variety            Food   \n",
       "6063                   Pringles - Cheddar Cheese            Food   \n",
       "6064                         Oreo Mini - Go Paks            Food   \n",
       "\n",
       "                        TransDate    Type  RCoil  RPrice  RQty  LineTotal  \\\n",
       "679     Friday, February 11, 2022  Credit    133    2.00     1       2.00   \n",
       "680     Friday, February 11, 2022  Credit    114    1.50     1       1.50   \n",
       "681     Friday, February 11, 2022  Credit    144    3.00     1       3.00   \n",
       "782   Thursday, February 17, 2022  Credit    148    3.50     2       7.00   \n",
       "783   Thursday, February 17, 2022  Credit    133    2.00     1       2.00   \n",
       "784   Thursday, February 17, 2022  Credit    134    2.00     1       2.00   \n",
       "785   Thursday, February 17, 2022  Credit    144    3.00     1       3.00   \n",
       "801     Friday, February 18, 2022  Credit    133    2.00     1       2.00   \n",
       "802     Friday, February 18, 2022  Credit    134    2.00     1       2.00   \n",
       "803     Friday, February 18, 2022  Credit    147    2.50     1       2.50   \n",
       "2898         Monday, May 16, 2022  Credit    110    1.50     1       1.50   \n",
       "2899         Monday, May 16, 2022  Credit    147    2.50     1       2.50   \n",
       "2900         Monday, May 16, 2022  Credit    138    2.50     1       2.50   \n",
       "2933        Tuesday, May 17, 2022  Credit    147    2.50     1       2.50   \n",
       "2934        Tuesday, May 17, 2022  Credit    111    1.50     1       1.50   \n",
       "2935        Tuesday, May 17, 2022  Credit    138    2.50     1       2.50   \n",
       "2978      Wednesday, May 18, 2022  Credit    143    2.50     1       2.50   \n",
       "2979      Wednesday, May 18, 2022  Credit    125    1.50     1       1.50   \n",
       "2980      Wednesday, May 18, 2022  Credit    138    2.50     1       2.50   \n",
       "3121         Monday, May 23, 2022  Credit    145    2.75     1       2.75   \n",
       "3122         Monday, May 23, 2022  Credit    148    3.50     1       3.50   \n",
       "3486         Monday, June 6, 2022  Credit    147    2.50     1       2.50   \n",
       "3487         Monday, June 6, 2022  Credit    125    1.50     1       1.50   \n",
       "3488         Monday, June 6, 2022  Credit    136    2.50     1       2.50   \n",
       "4011     Wednesday, June 22, 2022  Credit    165    4.00     2       8.00   \n",
       "4342         Friday, July 1, 2022  Credit    134    2.50     2       5.00   \n",
       "4343         Friday, July 1, 2022  Credit    111    1.50     1       1.50   \n",
       "5194      Saturday, July 23, 2022  Credit    146    3.00     1       3.00   \n",
       "5195      Saturday, July 23, 2022  Credit    130    2.00     1       2.00   \n",
       "5196      Saturday, July 23, 2022  Credit    131    2.00     1       2.00   \n",
       "6063      Friday, August 19, 2022  Credit    161    3.00     1       3.00   \n",
       "6064      Friday, August 19, 2022  Credit    152    4.00     1       4.00   \n",
       "\n",
       "      TransTotal  Prcd Date  \n",
       "679         6.50  2/11/2022  \n",
       "680         6.50  2/11/2022  \n",
       "681         6.50  2/11/2022  \n",
       "782         7.00  2/17/2022  \n",
       "783         7.00  2/17/2022  \n",
       "784         7.00  2/17/2022  \n",
       "785         7.00  2/17/2022  \n",
       "801         6.50  2/18/2022  \n",
       "802         6.50  2/18/2022  \n",
       "803         6.50  2/18/2022  \n",
       "2898        6.50  5/16/2022  \n",
       "2899        6.50  5/16/2022  \n",
       "2900        6.50  5/16/2022  \n",
       "2933        6.50  5/17/2022  \n",
       "2934        6.50  5/17/2022  \n",
       "2935        6.50  5/17/2022  \n",
       "2978        6.50  5/18/2022  \n",
       "2979        6.50  5/18/2022  \n",
       "2980        6.50  5/18/2022  \n",
       "3121        6.25  5/23/2022  \n",
       "3122        6.25  5/23/2022  \n",
       "3486        6.50   6/6/2022  \n",
       "3487        6.50   6/6/2022  \n",
       "3488        6.50   6/6/2022  \n",
       "4011        8.00  6/26/2022  \n",
       "4342        6.50   7/1/2022  \n",
       "4343        6.50   7/1/2022  \n",
       "5194        7.00  7/23/2022  \n",
       "5195        7.00  7/23/2022  \n",
       "5196        7.00  7/23/2022  \n",
       "6063        7.00  8/19/2022  \n",
       "6064        7.00  8/19/2022  "
      ]
     },
     "execution_count": 37,
     "metadata": {},
     "output_type": "execute_result"
    }
   ],
   "source": [
    "n_db[n_db[\"TransTotal\"]>6]"
   ]
  },
  {
   "cell_type": "markdown",
   "id": "e5655e0c",
   "metadata": {},
   "source": [
    "It is possible to notice that the values greter than 6 are still plausible values, as a consequence, no row has been dropped to prevent information loss. "
   ]
  },
  {
   "cell_type": "markdown",
   "id": "91a50f03",
   "metadata": {},
   "source": [
    "# Feature Engineering <a class=\"anchor\" id=\"fifth-bullet\"></a>\n",
    "[Index](#index) <a class=\"anchor\" id=\"index\"></a>"
   ]
  },
  {
   "cell_type": "markdown",
   "id": "9e3a3e6a",
   "metadata": {},
   "source": [
    "Some feature engineering was then perform to prepare the data to be fed to algotithms and models for analysis."
   ]
  },
  {
   "cell_type": "markdown",
   "id": "d4e4cc44",
   "metadata": {},
   "source": [
    "To begin with, the date feature was split:"
   ]
  },
  {
   "cell_type": "code",
   "execution_count": 38,
   "id": "e635ea9e",
   "metadata": {},
   "outputs": [],
   "source": [
    "n_db[\"Date_Split\"]=n_db[\"TransDate\"].str.split(\", \")"
   ]
  },
  {
   "cell_type": "code",
   "execution_count": 39,
   "id": "a8bb6de7",
   "metadata": {},
   "outputs": [],
   "source": [
    "n_db[[\"Day_of_Week\",\"Month+Day\",\"Year\"]]=pd.DataFrame(n_db.Date_Split.tolist(),index=n_db.index)"
   ]
  },
  {
   "cell_type": "markdown",
   "id": "da661136",
   "metadata": {},
   "source": [
    "At this point, some columns contain same information about the data as others. A drop is therefore necessary:"
   ]
  },
  {
   "cell_type": "code",
   "execution_count": 40,
   "id": "d82e90d0",
   "metadata": {},
   "outputs": [],
   "source": [
    "n_db=n_db.drop([\"TransDate\",\"Date_Split\"],axis=1)"
   ]
  },
  {
   "cell_type": "markdown",
   "id": "af6acf89",
   "metadata": {},
   "source": [
    "Days were then split between Festive and Working days. Days were classified as festive if they were either a saturday, a sunday, or a New Jersey State holiday (https://www.state.nj.us/nj/about/facts/holidays/). Holidays were considered up to July, month of the latest observation in the dataset. The code to perform such operation is as follows:"
   ]
  },
  {
   "cell_type": "code",
   "execution_count": 41,
   "id": "92d90e2a",
   "metadata": {},
   "outputs": [],
   "source": [
    "holiday=[\"January 1\",\"January 17\",\"February 21\",\"April 15\",\"May 30\",\"June 17\",\"July 4\"]\n",
    "n=(n_db[\"Day_of_Week\"]==\"Saturday\") | (n_db[\"Day_of_Week\"]==\"Sunday\") \n",
    "m=n_db[\"Month+Day\"].isin(holiday)"
   ]
  },
  {
   "cell_type": "code",
   "execution_count": 42,
   "id": "826cd8a8",
   "metadata": {},
   "outputs": [],
   "source": [
    "n_db[\"Festive\"]=np.where(n|m,1,0)"
   ]
  },
  {
   "cell_type": "markdown",
   "id": "d63af669",
   "metadata": {},
   "source": [
    "The column containing the year was also dropped as it contained do additional information given that all observation in the dataset are from 2022:"
   ]
  },
  {
   "cell_type": "code",
   "execution_count": 43,
   "id": "e2df1e09",
   "metadata": {},
   "outputs": [],
   "source": [
    "n_db=n_db.drop([\"Year\"],axis=1)"
   ]
  },
  {
   "cell_type": "markdown",
   "id": "5ca703b1",
   "metadata": {},
   "source": [
    "Once the days were classified as festive or nor, a column containing the month was created:"
   ]
  },
  {
   "cell_type": "code",
   "execution_count": 44,
   "id": "ea6391e3",
   "metadata": {},
   "outputs": [],
   "source": [
    "l=[]\n",
    "for i in range(len(n_db[\"Month+Day\"])):\n",
    "    l.append(n_db[\"Month+Day\"].iloc[i].split(\" \")[0])\n",
    "n_db[\"Month\"]=l"
   ]
  },
  {
   "cell_type": "markdown",
   "id": "67d80ecd",
   "metadata": {},
   "source": [
    "And, once again, columns containing duplicate information were dropped:"
   ]
  },
  {
   "cell_type": "code",
   "execution_count": 45,
   "id": "f98a011f",
   "metadata": {},
   "outputs": [],
   "source": [
    "n_db = n_db.drop([\"Month+Day\",\"Prcd Date\"],axis=1)"
   ]
  },
  {
   "cell_type": "markdown",
   "id": "4e644685",
   "metadata": {},
   "source": [
    "The precise day date of the month was dropped as it was deemed not that relevant once the indication of the month, of the week day, and of whether that day was festive or not was included. "
   ]
  },
  {
   "cell_type": "markdown",
   "id": "1573346a",
   "metadata": {},
   "source": [
    "## Exploratory Data Analysis <a class=\"anchor\" id=\"sixth-bullet\"></a>\n",
    "[Index](#index) <a class=\"anchor\" id=\"index\"></a>"
   ]
  },
  {
   "cell_type": "markdown",
   "id": "f90b0447",
   "metadata": {},
   "source": [
    "In this section, some exploratory data analysis has been conducted in order to deepen the knowledge of the data at hand and to try to identify patterns or charcateristics linking different purchases."
   ]
  },
  {
   "cell_type": "markdown",
   "id": "e9b02e44",
   "metadata": {},
   "source": [
    "The \"TransTotal\" has been analysed as it is the variable of interest of the analysis. The means has been plotted according to different weekdays:"
   ]
  },
  {
   "cell_type": "code",
   "execution_count": 46,
   "id": "58173dfe",
   "metadata": {},
   "outputs": [
    {
     "data": {
      "text/plain": [
       "<AxesSubplot:xlabel='Day_of_Week'>"
      ]
     },
     "execution_count": 46,
     "metadata": {},
     "output_type": "execute_result"
    },
    {
     "data": {
      "image/png": "[encoded data removed]",
      "text/plain": [
       "<Figure size 432x288 with 1 Axes>"
      ]
     },
     "metadata": {
      "needs_background": "light"
     },
     "output_type": "display_data"
    }
   ],
   "source": [
    "n_db.groupby('Day_of_Week')[\"TransTotal\"].mean().plot()"
   ]
  },
  {
   "cell_type": "markdown",
   "id": "e7c394c3",
   "metadata": {},
   "source": [
    "There seems to be a difference in means between different days. To see whether this difference is really due to \"Day_of_Week\" or rather to other factors, the \"Type\" of the transaction was also included: "
   ]
  },
  {
   "cell_type": "code",
   "execution_count": 47,
   "id": "801e0fb4",
   "metadata": {},
   "outputs": [
    {
     "data": {
      "text/plain": [
       "Type    Day_of_Week\n",
       "Cash    Friday         1.837644\n",
       "        Monday         1.847243\n",
       "        Saturday       1.923684\n",
       "        Sunday         1.868834\n",
       "        Thursday       1.854058\n",
       "        Tuesday        1.836763\n",
       "        Wednesday      1.868385\n",
       "Credit  Friday         2.826803\n",
       "        Monday         2.850852\n",
       "        Saturday       2.622010\n",
       "        Sunday         2.867188\n",
       "        Thursday       2.882698\n",
       "        Tuesday        2.788512\n",
       "        Wednesday      2.925393\n",
       "Name: TransTotal, dtype: float64"
      ]
     },
     "execution_count": 47,
     "metadata": {},
     "output_type": "execute_result"
    }
   ],
   "source": [
    "n_db.groupby(['Type', 'Day_of_Week'])[\"TransTotal\"].mean()"
   ]
  },
  {
   "cell_type": "markdown",
   "id": "1d544411",
   "metadata": {},
   "source": [
    "There seems to be a relevant difference between the average transaction total for purchases made with card and the ones made with cash. In particular:"
   ]
  },
  {
   "cell_type": "code",
   "execution_count": 48,
   "id": "3673d37e",
   "metadata": {},
   "outputs": [
    {
     "data": {
      "text/plain": [
       "Type\n",
       "Cash      1.858324\n",
       "Credit    2.833411\n",
       "Name: TransTotal, dtype: float64"
      ]
     },
     "execution_count": 48,
     "metadata": {},
     "output_type": "execute_result"
    }
   ],
   "source": [
    "n_db.groupby('Type')[\"TransTotal\"].mean()"
   ]
  },
  {
   "cell_type": "markdown",
   "id": "466590c5",
   "metadata": {},
   "source": [
    "# First t-test <a class=\"anchor\" id=\"seventh-bullet\"></a>\n",
    "[Index](#index) <a class=\"anchor\" id=\"index\"></a>"
   ]
  },
  {
   "cell_type": "markdown",
   "id": "70618e04",
   "metadata": {},
   "source": [
    "To see whether the empirically discovered difference is statistically significant, a t-test has been run:"
   ]
  },
  {
   "cell_type": "code",
   "execution_count": 49,
   "id": "5e2fdf07",
   "metadata": {},
   "outputs": [
    {
     "data": {
      "text/plain": [
       "Ttest_indResult(statistic=-31.916125815473997, pvalue=1.4498531340664352e-189)"
      ]
     },
     "execution_count": 49,
     "metadata": {},
     "output_type": "execute_result"
    }
   ],
   "source": [
    "from scipy import stats\n",
    "stats.ttest_ind(a=n_db[n_db['Type'] == 'Cash'].TransTotal, b=n_db[n_db['Type']== 'Credit'].TransTotal, equal_var=False)"
   ]
  },
  {
   "cell_type": "markdown",
   "id": "a2d1324e",
   "metadata": {},
   "source": [
    "Given that the p-value is approximately 0, the null hypothesis of non-significance of the difference has been rejected and so there is a statistically significant difference between the transactions done with card and with cash. "
   ]
  },
  {
   "cell_type": "markdown",
   "id": "f5bbc461",
   "metadata": {},
   "source": [
    "At this point, since there is a statistically significant difference, a deeper comparison has been run on Cash VS Credit in the following section."
   ]
  },
  {
   "cell_type": "markdown",
   "id": "b9f9b56d",
   "metadata": {},
   "source": [
    "# Cash vs Credit Comparison <a class=\"anchor\" id=\"eighth-bullet\"></a>\n",
    "[Index](#index) <a class=\"anchor\" id=\"index\"></a>"
   ]
  },
  {
   "cell_type": "markdown",
   "id": "f13ce698",
   "metadata": {},
   "source": [
    "In this section, a deeper analysis has been run to understand whether other features can be the main cause in the differnce between average transaction total when paying with card with respect to when paying with cash."
   ]
  },
  {
   "cell_type": "markdown",
   "id": "ce8868c0",
   "metadata": {},
   "source": [
    "After this point there isn't any operation on the original ready n_db dataset, just some exploratory analysis. "
   ]
  },
  {
   "cell_type": "markdown",
   "id": "e292d085",
   "metadata": {},
   "source": [
    "First of all, a comparison within categories has been carried out:"
   ]
  },
  {
   "cell_type": "code",
   "execution_count": 50,
   "id": "f8b84718",
   "metadata": {},
   "outputs": [],
   "source": [
    "d_cash = n_db[n_db['Type'] == 'Cash']\n",
    "d_credit = n_db[n_db['Type'] == 'Credit']"
   ]
  },
  {
   "cell_type": "code",
   "execution_count": 51,
   "id": "3f8c3c3f",
   "metadata": {},
   "outputs": [
    {
     "data": {
      "text/plain": [
       "(<AxesSubplot:>, <AxesSubplot:>)"
      ]
     },
     "execution_count": 51,
     "metadata": {},
     "output_type": "execute_result"
    },
    {
     "data": {
      "image/png": "[encoded data removed]",
      "text/plain": [
       "<Figure size 432x288 with 1 Axes>"
      ]
     },
     "metadata": {
      "needs_background": "light"
     },
     "output_type": "display_data"
    }
   ],
   "source": [
    "d_cash['TransTotal'].hist(), d_credit['TransTotal'].hist()"
   ]
  },
  {
   "cell_type": "code",
   "execution_count": 52,
   "id": "3e3af32e",
   "metadata": {},
   "outputs": [
    {
     "data": {
      "text/plain": [
       "Category\n",
       "Carbonated        2.740909\n",
       "Food              2.842359\n",
       "Non Carbonated    3.224379\n",
       "Water             2.336788\n",
       "Name: TransTotal, dtype: float64"
      ]
     },
     "execution_count": 52,
     "metadata": {},
     "output_type": "execute_result"
    }
   ],
   "source": [
    "d_credit.groupby('Category')[\"TransTotal\"].mean()"
   ]
  },
  {
   "cell_type": "code",
   "execution_count": 53,
   "id": "f1c24468",
   "metadata": {},
   "outputs": [
    {
     "data": {
      "text/plain": [
       "Day_of_Week\n",
       "Friday       2.826803\n",
       "Monday       2.850852\n",
       "Saturday     2.622010\n",
       "Sunday       2.867188\n",
       "Thursday     2.882698\n",
       "Tuesday      2.788512\n",
       "Wednesday    2.925393\n",
       "Name: TransTotal, dtype: float64"
      ]
     },
     "execution_count": 53,
     "metadata": {},
     "output_type": "execute_result"
    }
   ],
   "source": [
    "d_credit.groupby('Day_of_Week')[\"TransTotal\"].mean()"
   ]
  },
  {
   "cell_type": "code",
   "execution_count": 54,
   "id": "a12f07c2",
   "metadata": {},
   "outputs": [
    {
     "data": {
      "text/plain": [
       "Day_of_Week\n",
       "Friday       1.837644\n",
       "Monday       1.847243\n",
       "Saturday     1.923684\n",
       "Sunday       1.868834\n",
       "Thursday     1.854058\n",
       "Tuesday      1.836763\n",
       "Wednesday    1.868385\n",
       "Name: TransTotal, dtype: float64"
      ]
     },
     "execution_count": 54,
     "metadata": {},
     "output_type": "execute_result"
    }
   ],
   "source": [
    "d_cash.groupby('Day_of_Week')[\"TransTotal\"].mean()"
   ]
  }
 ],
 "metadata": {},
 "nbformat": 4,
 "nbformat_minor": 5
}
